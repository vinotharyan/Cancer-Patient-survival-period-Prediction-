{
 "cells": [
  {
   "cell_type": "code",
   "execution_count": 105,
   "metadata": {},
   "outputs": [],
   "source": [
    "### important packages which helps EDA part\n",
    "import pandas as pd\n",
    "import matplotlib.pyplot as plt\n",
    "import seaborn as sns\n",
    "import numpy as np\n",
    "from scipy.stats import norm\n",
    "from sklearn.preprocessing import StandardScaler\n",
    "from scipy import stats\n",
    "import warnings\n",
    "warnings.filterwarnings('ignore')\n",
    "%matplotlib inline"
   ]
  },
  {
   "cell_type": "code",
   "execution_count": 106,
   "metadata": {},
   "outputs": [],
   "source": [
    "df=pd.read_csv(\"B:\\\\standfort_statistal_learning\\\\participant_files\\\\participant_files\\\\training_data.csv\")"
   ]
  },
  {
   "cell_type": "code",
   "execution_count": 107,
   "metadata": {},
   "outputs": [
    {
     "data": {
      "text/html": [
       "<div>\n",
       "<style scoped>\n",
       "    .dataframe tbody tr th:only-of-type {\n",
       "        vertical-align: middle;\n",
       "    }\n",
       "\n",
       "    .dataframe tbody tr th {\n",
       "        vertical-align: top;\n",
       "    }\n",
       "\n",
       "    .dataframe thead th {\n",
       "        text-align: right;\n",
       "    }\n",
       "</style>\n",
       "<table border=\"1\" class=\"dataframe\">\n",
       "  <thead>\n",
       "    <tr style=\"text-align: right;\">\n",
       "      <th></th>\n",
       "      <th>id</th>\n",
       "      <th>diagnosis_date</th>\n",
       "      <th>gleason_score</th>\n",
       "      <th>t_score</th>\n",
       "      <th>n_score</th>\n",
       "      <th>m_score</th>\n",
       "      <th>stage</th>\n",
       "      <th>age</th>\n",
       "      <th>race</th>\n",
       "      <th>height</th>\n",
       "      <th>...</th>\n",
       "      <th>symptoms</th>\n",
       "      <th>rd_thrpy</th>\n",
       "      <th>h_thrpy</th>\n",
       "      <th>chm_thrpy</th>\n",
       "      <th>cry_thrpy</th>\n",
       "      <th>brch_thrpy</th>\n",
       "      <th>rad_rem</th>\n",
       "      <th>multi_thrpy</th>\n",
       "      <th>survival_1_year</th>\n",
       "      <th>survival_7_years</th>\n",
       "    </tr>\n",
       "  </thead>\n",
       "  <tbody>\n",
       "    <tr>\n",
       "      <th>0</th>\n",
       "      <td>1</td>\n",
       "      <td>Jun-05</td>\n",
       "      <td>4.0</td>\n",
       "      <td>T1c</td>\n",
       "      <td>N0</td>\n",
       "      <td>M0</td>\n",
       "      <td>I</td>\n",
       "      <td>86.0</td>\n",
       "      <td>4.0</td>\n",
       "      <td>66.0</td>\n",
       "      <td>...</td>\n",
       "      <td>U03</td>\n",
       "      <td>0</td>\n",
       "      <td>0</td>\n",
       "      <td>1</td>\n",
       "      <td>1</td>\n",
       "      <td>0</td>\n",
       "      <td>1</td>\n",
       "      <td>1</td>\n",
       "      <td>1</td>\n",
       "      <td>0</td>\n",
       "    </tr>\n",
       "    <tr>\n",
       "      <th>1</th>\n",
       "      <td>2</td>\n",
       "      <td>Feb-06</td>\n",
       "      <td>8.0</td>\n",
       "      <td>T3a</td>\n",
       "      <td>N1</td>\n",
       "      <td>M0</td>\n",
       "      <td>IV</td>\n",
       "      <td>66.0</td>\n",
       "      <td>2.0</td>\n",
       "      <td>70.0</td>\n",
       "      <td>...</td>\n",
       "      <td>U06,S07</td>\n",
       "      <td>1</td>\n",
       "      <td>1</td>\n",
       "      <td>1</td>\n",
       "      <td>0</td>\n",
       "      <td>0</td>\n",
       "      <td>0</td>\n",
       "      <td>1</td>\n",
       "      <td>1</td>\n",
       "      <td>0</td>\n",
       "    </tr>\n",
       "    <tr>\n",
       "      <th>2</th>\n",
       "      <td>3</td>\n",
       "      <td>Mar-06</td>\n",
       "      <td>9.0</td>\n",
       "      <td>T1a</td>\n",
       "      <td>N0</td>\n",
       "      <td>M0</td>\n",
       "      <td>IIB</td>\n",
       "      <td>84.0</td>\n",
       "      <td>4.0</td>\n",
       "      <td>69.0</td>\n",
       "      <td>...</td>\n",
       "      <td>U01,U02,U03,S10</td>\n",
       "      <td>1</td>\n",
       "      <td>1</td>\n",
       "      <td>0</td>\n",
       "      <td>0</td>\n",
       "      <td>1</td>\n",
       "      <td>1</td>\n",
       "      <td>1</td>\n",
       "      <td>1</td>\n",
       "      <td>1</td>\n",
       "    </tr>\n",
       "    <tr>\n",
       "      <th>3</th>\n",
       "      <td>4</td>\n",
       "      <td>Feb-05</td>\n",
       "      <td>8.0</td>\n",
       "      <td>T2b</td>\n",
       "      <td>N0</td>\n",
       "      <td>M0</td>\n",
       "      <td>IIB</td>\n",
       "      <td>86.0</td>\n",
       "      <td>3.0</td>\n",
       "      <td>69.0</td>\n",
       "      <td>...</td>\n",
       "      <td>U01,U02,S10,O11</td>\n",
       "      <td>0</td>\n",
       "      <td>0</td>\n",
       "      <td>0</td>\n",
       "      <td>1</td>\n",
       "      <td>0</td>\n",
       "      <td>1</td>\n",
       "      <td>1</td>\n",
       "      <td>0</td>\n",
       "      <td>0</td>\n",
       "    </tr>\n",
       "    <tr>\n",
       "      <th>4</th>\n",
       "      <td>5</td>\n",
       "      <td>Dec-01</td>\n",
       "      <td>8.0</td>\n",
       "      <td>T4</td>\n",
       "      <td>N0</td>\n",
       "      <td>M0</td>\n",
       "      <td>IV</td>\n",
       "      <td>78.0</td>\n",
       "      <td>4.0</td>\n",
       "      <td>70.0</td>\n",
       "      <td>...</td>\n",
       "      <td>U01,U03,U05,S07</td>\n",
       "      <td>1</td>\n",
       "      <td>1</td>\n",
       "      <td>1</td>\n",
       "      <td>0</td>\n",
       "      <td>0</td>\n",
       "      <td>0</td>\n",
       "      <td>1</td>\n",
       "      <td>1</td>\n",
       "      <td>0</td>\n",
       "    </tr>\n",
       "  </tbody>\n",
       "</table>\n",
       "<p>5 rows × 33 columns</p>\n",
       "</div>"
      ],
      "text/plain": [
       "   id diagnosis_date  gleason_score t_score n_score m_score stage   age  race  \\\n",
       "0   1         Jun-05            4.0     T1c      N0      M0     I  86.0   4.0   \n",
       "1   2         Feb-06            8.0     T3a      N1      M0    IV  66.0   2.0   \n",
       "2   3         Mar-06            9.0     T1a      N0      M0   IIB  84.0   4.0   \n",
       "3   4         Feb-05            8.0     T2b      N0      M0   IIB  86.0   3.0   \n",
       "4   5         Dec-01            8.0      T4      N0      M0    IV  78.0   4.0   \n",
       "\n",
       "   height        ...                symptoms  rd_thrpy  h_thrpy  chm_thrpy  \\\n",
       "0    66.0        ...                     U03         0        0          1   \n",
       "1    70.0        ...                 U06,S07         1        1          1   \n",
       "2    69.0        ...         U01,U02,U03,S10         1        1          0   \n",
       "3    69.0        ...         U01,U02,S10,O11         0        0          0   \n",
       "4    70.0        ...         U01,U03,U05,S07         1        1          1   \n",
       "\n",
       "   cry_thrpy brch_thrpy  rad_rem  multi_thrpy  survival_1_year  \\\n",
       "0          1          0        1            1                1   \n",
       "1          0          0        0            1                1   \n",
       "2          0          1        1            1                1   \n",
       "3          1          0        1            1                0   \n",
       "4          0          0        0            1                1   \n",
       "\n",
       "   survival_7_years  \n",
       "0                 0  \n",
       "1                 0  \n",
       "2                 1  \n",
       "3                 0  \n",
       "4                 0  \n",
       "\n",
       "[5 rows x 33 columns]"
      ]
     },
     "execution_count": 107,
     "metadata": {},
     "output_type": "execute_result"
    }
   ],
   "source": [
    "df.head()"
   ]
  },
  {
   "cell_type": "code",
   "execution_count": 108,
   "metadata": {},
   "outputs": [
    {
     "data": {
      "text/html": [
       "<div>\n",
       "<style scoped>\n",
       "    .dataframe tbody tr th:only-of-type {\n",
       "        vertical-align: middle;\n",
       "    }\n",
       "\n",
       "    .dataframe tbody tr th {\n",
       "        vertical-align: top;\n",
       "    }\n",
       "\n",
       "    .dataframe thead th {\n",
       "        text-align: right;\n",
       "    }\n",
       "</style>\n",
       "<table border=\"1\" class=\"dataframe\">\n",
       "  <thead>\n",
       "    <tr style=\"text-align: right;\">\n",
       "      <th></th>\n",
       "      <th>Total</th>\n",
       "      <th>Percent</th>\n",
       "    </tr>\n",
       "  </thead>\n",
       "  <tbody>\n",
       "    <tr>\n",
       "      <th>tumor_6_months</th>\n",
       "      <td>10063</td>\n",
       "      <td>0.654079</td>\n",
       "    </tr>\n",
       "    <tr>\n",
       "      <th>psa_6_months</th>\n",
       "      <td>9503</td>\n",
       "      <td>0.617680</td>\n",
       "    </tr>\n",
       "    <tr>\n",
       "      <th>psa_1_year</th>\n",
       "      <td>2517</td>\n",
       "      <td>0.163601</td>\n",
       "    </tr>\n",
       "    <tr>\n",
       "      <th>tumor_1_year</th>\n",
       "      <td>2123</td>\n",
       "      <td>0.137992</td>\n",
       "    </tr>\n",
       "    <tr>\n",
       "      <th>tea</th>\n",
       "      <td>1586</td>\n",
       "      <td>0.103087</td>\n",
       "    </tr>\n",
       "    <tr>\n",
       "      <th>first_degree_history</th>\n",
       "      <td>1586</td>\n",
       "      <td>0.103087</td>\n",
       "    </tr>\n",
       "    <tr>\n",
       "      <th>previous_cancer</th>\n",
       "      <td>1586</td>\n",
       "      <td>0.103087</td>\n",
       "    </tr>\n",
       "    <tr>\n",
       "      <th>smoker</th>\n",
       "      <td>1586</td>\n",
       "      <td>0.103087</td>\n",
       "    </tr>\n",
       "    <tr>\n",
       "      <th>family_history</th>\n",
       "      <td>1586</td>\n",
       "      <td>0.103087</td>\n",
       "    </tr>\n",
       "    <tr>\n",
       "      <th>psa_diagnosis</th>\n",
       "      <td>1398</td>\n",
       "      <td>0.090868</td>\n",
       "    </tr>\n",
       "    <tr>\n",
       "      <th>height</th>\n",
       "      <td>1364</td>\n",
       "      <td>0.088658</td>\n",
       "    </tr>\n",
       "    <tr>\n",
       "      <th>weight</th>\n",
       "      <td>1317</td>\n",
       "      <td>0.085603</td>\n",
       "    </tr>\n",
       "    <tr>\n",
       "      <th>age</th>\n",
       "      <td>748</td>\n",
       "      <td>0.048619</td>\n",
       "    </tr>\n",
       "    <tr>\n",
       "      <th>symptoms</th>\n",
       "      <td>410</td>\n",
       "      <td>0.026649</td>\n",
       "    </tr>\n",
       "    <tr>\n",
       "      <th>gleason_score</th>\n",
       "      <td>320</td>\n",
       "      <td>0.020799</td>\n",
       "    </tr>\n",
       "    <tr>\n",
       "      <th>tumor_diagnosis</th>\n",
       "      <td>303</td>\n",
       "      <td>0.019695</td>\n",
       "    </tr>\n",
       "    <tr>\n",
       "      <th>race</th>\n",
       "      <td>165</td>\n",
       "      <td>0.010725</td>\n",
       "    </tr>\n",
       "    <tr>\n",
       "      <th>stage</th>\n",
       "      <td>0</td>\n",
       "      <td>0.000000</td>\n",
       "    </tr>\n",
       "  </tbody>\n",
       "</table>\n",
       "</div>"
      ],
      "text/plain": [
       "                      Total   Percent\n",
       "tumor_6_months        10063  0.654079\n",
       "psa_6_months           9503  0.617680\n",
       "psa_1_year             2517  0.163601\n",
       "tumor_1_year           2123  0.137992\n",
       "tea                    1586  0.103087\n",
       "first_degree_history   1586  0.103087\n",
       "previous_cancer        1586  0.103087\n",
       "smoker                 1586  0.103087\n",
       "family_history         1586  0.103087\n",
       "psa_diagnosis          1398  0.090868\n",
       "height                 1364  0.088658\n",
       "weight                 1317  0.085603\n",
       "age                     748  0.048619\n",
       "symptoms                410  0.026649\n",
       "gleason_score           320  0.020799\n",
       "tumor_diagnosis         303  0.019695\n",
       "race                    165  0.010725\n",
       "stage                     0  0.000000"
      ]
     },
     "execution_count": 108,
     "metadata": {},
     "output_type": "execute_result"
    }
   ],
   "source": [
    "total = df.isnull().sum().sort_values(ascending=False)\n",
    "percent = (df.isnull().sum()/df.isnull().count()).sort_values(ascending=False)\n",
    "missing_data = pd.concat([total, percent], axis=1, keys=['Total', 'Percent'])\n",
    "missing_data.head(18)"
   ]
  },
  {
   "cell_type": "markdown",
   "metadata": {},
   "source": [
    " if we look at the above giveatn table of missing value representation in each colunm it is clear proof that\n",
    " two colunms which has more than 60% of missing data it not good idea of fill the 60% of data hofrom 40% data information so that is reason i am  discard the **tumor_6_months** and **psa_6_months** colunms."
   ]
  },
  {
   "cell_type": "code",
   "execution_count": 109,
   "metadata": {},
   "outputs": [],
   "source": [
    "#delete the cabin feature/column and others previously stated to exclude in train dataset\n",
    "drop_column = ['tumor_6_months','psa_6_months']\n",
    "df.drop(drop_column, axis=1, inplace = True)"
   ]
  },
  {
   "cell_type": "code",
   "execution_count": 6,
   "metadata": {},
   "outputs": [],
   "source": [
    "#def fetch_import_to_fillna(x):\n",
    " #   print(x.value_counts(),x.describe(),'median is',x.median(),'mode is',x.mode())\n",
    "#fetch_import_to_fillna()"
   ]
  },
  {
   "cell_type": "code",
   "execution_count": 110,
   "metadata": {},
   "outputs": [],
   "source": [
    "#complete race with mode\n",
    "df['race'].fillna(df['race'].mode()[0], inplace = True)\n",
    "#complete tumor_diagnosis  with median\n",
    "df['tumor_diagnosis'].fillna(df['tumor_diagnosis'].median(), inplace = True)\n",
    "df['gleason_score'].fillna(df['gleason_score'].median(), inplace = True)\n",
    "df['age'].fillna(df['age'].mode()[0], inplace = True)\n",
    "df['height'].fillna(df['height'].mode()[0], inplace = True)\n",
    "df['weight'].fillna(df['weight'].mode()[0], inplace = True)\n",
    "df['psa_diagnosis'].fillna(df['psa_diagnosis'].mode()[0], inplace = True)\n",
    "df['family_history'].fillna(df['family_history'].median(), inplace = True)\n",
    "df['smoker'].fillna(df['smoker'].median(), inplace = True)\n",
    "df['previous_cancer'].fillna(df['previous_cancer'].mode()[0], inplace = True)\n",
    "df['first_degree_history'].fillna(df['first_degree_history'].mode()[0], inplace = True)\n",
    "df['tea'].fillna(df['tea'].mode()[0], inplace = True)\n",
    "df['tumor_1_year'].fillna(df['tumor_1_year'].mode()[0], inplace = True)\n",
    "df['psa_1_year'].fillna(df['psa_1_year'].mode()[0], inplace = True)"
   ]
  },
  {
   "cell_type": "code",
   "execution_count": 111,
   "metadata": {},
   "outputs": [
    {
     "data": {
      "image/png": "[encoded data removed]",
      "text/plain": [
       "<Figure size 1440x720 with 1 Axes>"
      ]
     },
     "metadata": {},
     "output_type": "display_data"
    }
   ],
   "source": [
    "cnt_srs = df['symptoms'].value_counts().head(50)\n",
    "plt.figure(figsize=(20,10))\n",
    "sns.barplot(cnt_srs.index, cnt_srs.values, alpha=0.8)\n",
    "plt.ylabel('Number of Occurrences', fontsize=12)\n",
    "plt.xlabel('symptoms', fontsize=12)\n",
    "plt.xticks(rotation='vertical')\n",
    "plt.show()"
   ]
  },
  {
   "cell_type": "raw",
   "metadata": {},
   "source": []
  },
  {
   "cell_type": "markdown",
   "metadata": {},
   "source": [
    "## create new varibale based on Catergical data"
   ]
  },
  {
   "cell_type": "markdown",
   "metadata": {},
   "source": [
    "### converting numerical data into catergical data "
   ]
  },
  {
   "cell_type": "code",
   "execution_count": 112,
   "metadata": {},
   "outputs": [],
   "source": [
    "\n",
    "df[\"race\"] = df[\"race\"].astype(str)\n",
    "df[\"race\"].replace('1.0','race_type_1',inplace=True)\n",
    "df[\"race\"].replace('2.0','race_type_2',inplace=True)\n",
    "df[\"race\"].replace('3.0','race_type_3',inplace=True)\n",
    "df[\"race\"].replace('4.0','race_type_4',inplace=True)"
   ]
  },
  {
   "cell_type": "code",
   "execution_count": 114,
   "metadata": {},
   "outputs": [],
   "source": [
    "df=pd.get_dummies(df, columns=[\"t_score\", \"n_score\",\"stage\",\"m_score\",\"race\"], \n",
    "                              prefix=[\"t_score\", \"n_score\",\"stage\",\"m_score\",\"r\"])\n"
   ]
  },
  {
   "cell_type": "code",
   "execution_count": 115,
   "metadata": {},
   "outputs": [
    {
     "data": {
      "text/html": [
       "<div>\n",
       "<style scoped>\n",
       "    .dataframe tbody tr th:only-of-type {\n",
       "        vertical-align: middle;\n",
       "    }\n",
       "\n",
       "    .dataframe tbody tr th {\n",
       "        vertical-align: top;\n",
       "    }\n",
       "\n",
       "    .dataframe thead th {\n",
       "        text-align: right;\n",
       "    }\n",
       "</style>\n",
       "<table border=\"1\" class=\"dataframe\">\n",
       "  <thead>\n",
       "    <tr style=\"text-align: right;\">\n",
       "      <th></th>\n",
       "      <th>id</th>\n",
       "      <th>diagnosis_date</th>\n",
       "      <th>gleason_score</th>\n",
       "      <th>age</th>\n",
       "      <th>height</th>\n",
       "      <th>weight</th>\n",
       "      <th>family_history</th>\n",
       "      <th>first_degree_history</th>\n",
       "      <th>previous_cancer</th>\n",
       "      <th>smoker</th>\n",
       "      <th>...</th>\n",
       "      <th>stage_III</th>\n",
       "      <th>stage_IV</th>\n",
       "      <th>m_score_M0</th>\n",
       "      <th>m_score_M1a</th>\n",
       "      <th>m_score_M1b</th>\n",
       "      <th>m_score_M1c</th>\n",
       "      <th>r_race_type_1</th>\n",
       "      <th>r_race_type_2</th>\n",
       "      <th>r_race_type_3</th>\n",
       "      <th>r_race_type_4</th>\n",
       "    </tr>\n",
       "  </thead>\n",
       "  <tbody>\n",
       "    <tr>\n",
       "      <th>0</th>\n",
       "      <td>1</td>\n",
       "      <td>Jun-05</td>\n",
       "      <td>4.0</td>\n",
       "      <td>86.0</td>\n",
       "      <td>66.0</td>\n",
       "      <td>158.0</td>\n",
       "      <td>0.0</td>\n",
       "      <td>0.0</td>\n",
       "      <td>0.0</td>\n",
       "      <td>0.0</td>\n",
       "      <td>...</td>\n",
       "      <td>0</td>\n",
       "      <td>0</td>\n",
       "      <td>1</td>\n",
       "      <td>0</td>\n",
       "      <td>0</td>\n",
       "      <td>0</td>\n",
       "      <td>0</td>\n",
       "      <td>0</td>\n",
       "      <td>0</td>\n",
       "      <td>1</td>\n",
       "    </tr>\n",
       "    <tr>\n",
       "      <th>1</th>\n",
       "      <td>2</td>\n",
       "      <td>Feb-06</td>\n",
       "      <td>8.0</td>\n",
       "      <td>66.0</td>\n",
       "      <td>70.0</td>\n",
       "      <td>174.0</td>\n",
       "      <td>0.0</td>\n",
       "      <td>0.0</td>\n",
       "      <td>0.0</td>\n",
       "      <td>1.0</td>\n",
       "      <td>...</td>\n",
       "      <td>0</td>\n",
       "      <td>1</td>\n",
       "      <td>1</td>\n",
       "      <td>0</td>\n",
       "      <td>0</td>\n",
       "      <td>0</td>\n",
       "      <td>0</td>\n",
       "      <td>1</td>\n",
       "      <td>0</td>\n",
       "      <td>0</td>\n",
       "    </tr>\n",
       "    <tr>\n",
       "      <th>2</th>\n",
       "      <td>3</td>\n",
       "      <td>Mar-06</td>\n",
       "      <td>9.0</td>\n",
       "      <td>84.0</td>\n",
       "      <td>69.0</td>\n",
       "      <td>174.0</td>\n",
       "      <td>0.0</td>\n",
       "      <td>0.0</td>\n",
       "      <td>0.0</td>\n",
       "      <td>0.0</td>\n",
       "      <td>...</td>\n",
       "      <td>0</td>\n",
       "      <td>0</td>\n",
       "      <td>1</td>\n",
       "      <td>0</td>\n",
       "      <td>0</td>\n",
       "      <td>0</td>\n",
       "      <td>0</td>\n",
       "      <td>0</td>\n",
       "      <td>0</td>\n",
       "      <td>1</td>\n",
       "    </tr>\n",
       "    <tr>\n",
       "      <th>3</th>\n",
       "      <td>4</td>\n",
       "      <td>Feb-05</td>\n",
       "      <td>8.0</td>\n",
       "      <td>86.0</td>\n",
       "      <td>69.0</td>\n",
       "      <td>173.0</td>\n",
       "      <td>0.0</td>\n",
       "      <td>0.0</td>\n",
       "      <td>0.0</td>\n",
       "      <td>0.0</td>\n",
       "      <td>...</td>\n",
       "      <td>0</td>\n",
       "      <td>0</td>\n",
       "      <td>1</td>\n",
       "      <td>0</td>\n",
       "      <td>0</td>\n",
       "      <td>0</td>\n",
       "      <td>0</td>\n",
       "      <td>0</td>\n",
       "      <td>1</td>\n",
       "      <td>0</td>\n",
       "    </tr>\n",
       "    <tr>\n",
       "      <th>4</th>\n",
       "      <td>5</td>\n",
       "      <td>Dec-01</td>\n",
       "      <td>8.0</td>\n",
       "      <td>78.0</td>\n",
       "      <td>70.0</td>\n",
       "      <td>201.0</td>\n",
       "      <td>1.0</td>\n",
       "      <td>1.0</td>\n",
       "      <td>0.0</td>\n",
       "      <td>0.0</td>\n",
       "      <td>...</td>\n",
       "      <td>0</td>\n",
       "      <td>1</td>\n",
       "      <td>1</td>\n",
       "      <td>0</td>\n",
       "      <td>0</td>\n",
       "      <td>0</td>\n",
       "      <td>0</td>\n",
       "      <td>0</td>\n",
       "      <td>0</td>\n",
       "      <td>1</td>\n",
       "    </tr>\n",
       "  </tbody>\n",
       "</table>\n",
       "<p>5 rows × 52 columns</p>\n",
       "</div>"
      ],
      "text/plain": [
       "   id diagnosis_date  gleason_score   age  height  weight  family_history  \\\n",
       "0   1         Jun-05            4.0  86.0    66.0   158.0             0.0   \n",
       "1   2         Feb-06            8.0  66.0    70.0   174.0             0.0   \n",
       "2   3         Mar-06            9.0  84.0    69.0   174.0             0.0   \n",
       "3   4         Feb-05            8.0  86.0    69.0   173.0             0.0   \n",
       "4   5         Dec-01            8.0  78.0    70.0   201.0             1.0   \n",
       "\n",
       "   first_degree_history  previous_cancer  smoker      ...       stage_III  \\\n",
       "0                   0.0              0.0     0.0      ...               0   \n",
       "1                   0.0              0.0     1.0      ...               0   \n",
       "2                   0.0              0.0     0.0      ...               0   \n",
       "3                   0.0              0.0     0.0      ...               0   \n",
       "4                   1.0              0.0     0.0      ...               0   \n",
       "\n",
       "   stage_IV  m_score_M0  m_score_M1a  m_score_M1b  m_score_M1c r_race_type_1  \\\n",
       "0         0           1            0            0            0             0   \n",
       "1         1           1            0            0            0             0   \n",
       "2         0           1            0            0            0             0   \n",
       "3         0           1            0            0            0             0   \n",
       "4         1           1            0            0            0             0   \n",
       "\n",
       "   r_race_type_2  r_race_type_3  r_race_type_4  \n",
       "0              0              0              1  \n",
       "1              1              0              0  \n",
       "2              0              0              1  \n",
       "3              0              1              0  \n",
       "4              0              0              1  \n",
       "\n",
       "[5 rows x 52 columns]"
      ]
     },
     "execution_count": 115,
     "metadata": {},
     "output_type": "execute_result"
    }
   ],
   "source": [
    "df.head()"
   ]
  },
  {
   "cell_type": "code",
   "execution_count": 116,
   "metadata": {},
   "outputs": [],
   "source": [
    "encod=df['symptoms'].str.get_dummies(sep=',')"
   ]
  },
  {
   "cell_type": "code",
   "execution_count": 117,
   "metadata": {},
   "outputs": [
    {
     "data": {
      "text/html": [
       "<div>\n",
       "<style scoped>\n",
       "    .dataframe tbody tr th:only-of-type {\n",
       "        vertical-align: middle;\n",
       "    }\n",
       "\n",
       "    .dataframe tbody tr th {\n",
       "        vertical-align: top;\n",
       "    }\n",
       "\n",
       "    .dataframe thead th {\n",
       "        text-align: right;\n",
       "    }\n",
       "</style>\n",
       "<table border=\"1\" class=\"dataframe\">\n",
       "  <thead>\n",
       "    <tr style=\"text-align: right;\">\n",
       "      <th></th>\n",
       "      <th>O01</th>\n",
       "      <th>O08</th>\n",
       "      <th>O09</th>\n",
       "      <th>O10</th>\n",
       "      <th>O11</th>\n",
       "      <th>P01</th>\n",
       "      <th>P02</th>\n",
       "      <th>P03</th>\n",
       "      <th>S04</th>\n",
       "      <th>S07</th>\n",
       "      <th>S10</th>\n",
       "      <th>U01</th>\n",
       "      <th>U02</th>\n",
       "      <th>U03</th>\n",
       "      <th>U05</th>\n",
       "      <th>U06</th>\n",
       "    </tr>\n",
       "  </thead>\n",
       "  <tbody>\n",
       "    <tr>\n",
       "      <th>0</th>\n",
       "      <td>0</td>\n",
       "      <td>0</td>\n",
       "      <td>0</td>\n",
       "      <td>0</td>\n",
       "      <td>0</td>\n",
       "      <td>0</td>\n",
       "      <td>0</td>\n",
       "      <td>0</td>\n",
       "      <td>0</td>\n",
       "      <td>0</td>\n",
       "      <td>0</td>\n",
       "      <td>0</td>\n",
       "      <td>0</td>\n",
       "      <td>1</td>\n",
       "      <td>0</td>\n",
       "      <td>0</td>\n",
       "    </tr>\n",
       "    <tr>\n",
       "      <th>1</th>\n",
       "      <td>0</td>\n",
       "      <td>0</td>\n",
       "      <td>0</td>\n",
       "      <td>0</td>\n",
       "      <td>0</td>\n",
       "      <td>0</td>\n",
       "      <td>0</td>\n",
       "      <td>0</td>\n",
       "      <td>0</td>\n",
       "      <td>1</td>\n",
       "      <td>0</td>\n",
       "      <td>0</td>\n",
       "      <td>0</td>\n",
       "      <td>0</td>\n",
       "      <td>0</td>\n",
       "      <td>1</td>\n",
       "    </tr>\n",
       "    <tr>\n",
       "      <th>2</th>\n",
       "      <td>0</td>\n",
       "      <td>0</td>\n",
       "      <td>0</td>\n",
       "      <td>0</td>\n",
       "      <td>0</td>\n",
       "      <td>0</td>\n",
       "      <td>0</td>\n",
       "      <td>0</td>\n",
       "      <td>0</td>\n",
       "      <td>0</td>\n",
       "      <td>1</td>\n",
       "      <td>1</td>\n",
       "      <td>1</td>\n",
       "      <td>1</td>\n",
       "      <td>0</td>\n",
       "      <td>0</td>\n",
       "    </tr>\n",
       "    <tr>\n",
       "      <th>3</th>\n",
       "      <td>0</td>\n",
       "      <td>0</td>\n",
       "      <td>0</td>\n",
       "      <td>0</td>\n",
       "      <td>1</td>\n",
       "      <td>0</td>\n",
       "      <td>0</td>\n",
       "      <td>0</td>\n",
       "      <td>0</td>\n",
       "      <td>0</td>\n",
       "      <td>1</td>\n",
       "      <td>1</td>\n",
       "      <td>1</td>\n",
       "      <td>0</td>\n",
       "      <td>0</td>\n",
       "      <td>0</td>\n",
       "    </tr>\n",
       "    <tr>\n",
       "      <th>4</th>\n",
       "      <td>0</td>\n",
       "      <td>0</td>\n",
       "      <td>0</td>\n",
       "      <td>0</td>\n",
       "      <td>0</td>\n",
       "      <td>0</td>\n",
       "      <td>0</td>\n",
       "      <td>0</td>\n",
       "      <td>0</td>\n",
       "      <td>1</td>\n",
       "      <td>0</td>\n",
       "      <td>1</td>\n",
       "      <td>0</td>\n",
       "      <td>1</td>\n",
       "      <td>1</td>\n",
       "      <td>0</td>\n",
       "    </tr>\n",
       "    <tr>\n",
       "      <th>5</th>\n",
       "      <td>0</td>\n",
       "      <td>0</td>\n",
       "      <td>0</td>\n",
       "      <td>0</td>\n",
       "      <td>0</td>\n",
       "      <td>0</td>\n",
       "      <td>0</td>\n",
       "      <td>0</td>\n",
       "      <td>0</td>\n",
       "      <td>0</td>\n",
       "      <td>1</td>\n",
       "      <td>0</td>\n",
       "      <td>1</td>\n",
       "      <td>1</td>\n",
       "      <td>0</td>\n",
       "      <td>0</td>\n",
       "    </tr>\n",
       "    <tr>\n",
       "      <th>6</th>\n",
       "      <td>0</td>\n",
       "      <td>0</td>\n",
       "      <td>0</td>\n",
       "      <td>0</td>\n",
       "      <td>0</td>\n",
       "      <td>0</td>\n",
       "      <td>0</td>\n",
       "      <td>0</td>\n",
       "      <td>0</td>\n",
       "      <td>1</td>\n",
       "      <td>0</td>\n",
       "      <td>1</td>\n",
       "      <td>1</td>\n",
       "      <td>1</td>\n",
       "      <td>0</td>\n",
       "      <td>0</td>\n",
       "    </tr>\n",
       "    <tr>\n",
       "      <th>7</th>\n",
       "      <td>0</td>\n",
       "      <td>0</td>\n",
       "      <td>0</td>\n",
       "      <td>0</td>\n",
       "      <td>0</td>\n",
       "      <td>0</td>\n",
       "      <td>0</td>\n",
       "      <td>0</td>\n",
       "      <td>0</td>\n",
       "      <td>0</td>\n",
       "      <td>0</td>\n",
       "      <td>1</td>\n",
       "      <td>1</td>\n",
       "      <td>1</td>\n",
       "      <td>0</td>\n",
       "      <td>0</td>\n",
       "    </tr>\n",
       "    <tr>\n",
       "      <th>8</th>\n",
       "      <td>0</td>\n",
       "      <td>0</td>\n",
       "      <td>0</td>\n",
       "      <td>0</td>\n",
       "      <td>1</td>\n",
       "      <td>0</td>\n",
       "      <td>0</td>\n",
       "      <td>0</td>\n",
       "      <td>0</td>\n",
       "      <td>0</td>\n",
       "      <td>0</td>\n",
       "      <td>0</td>\n",
       "      <td>1</td>\n",
       "      <td>1</td>\n",
       "      <td>0</td>\n",
       "      <td>0</td>\n",
       "    </tr>\n",
       "    <tr>\n",
       "      <th>9</th>\n",
       "      <td>0</td>\n",
       "      <td>0</td>\n",
       "      <td>0</td>\n",
       "      <td>0</td>\n",
       "      <td>1</td>\n",
       "      <td>0</td>\n",
       "      <td>0</td>\n",
       "      <td>0</td>\n",
       "      <td>0</td>\n",
       "      <td>1</td>\n",
       "      <td>0</td>\n",
       "      <td>1</td>\n",
       "      <td>1</td>\n",
       "      <td>1</td>\n",
       "      <td>0</td>\n",
       "      <td>0</td>\n",
       "    </tr>\n",
       "  </tbody>\n",
       "</table>\n",
       "</div>"
      ],
      "text/plain": [
       "   O01  O08  O09  O10  O11  P01  P02  P03  S04  S07  S10  U01  U02  U03  U05  \\\n",
       "0    0    0    0    0    0    0    0    0    0    0    0    0    0    1    0   \n",
       "1    0    0    0    0    0    0    0    0    0    1    0    0    0    0    0   \n",
       "2    0    0    0    0    0    0    0    0    0    0    1    1    1    1    0   \n",
       "3    0    0    0    0    1    0    0    0    0    0    1    1    1    0    0   \n",
       "4    0    0    0    0    0    0    0    0    0    1    0    1    0    1    1   \n",
       "5    0    0    0    0    0    0    0    0    0    0    1    0    1    1    0   \n",
       "6    0    0    0    0    0    0    0    0    0    1    0    1    1    1    0   \n",
       "7    0    0    0    0    0    0    0    0    0    0    0    1    1    1    0   \n",
       "8    0    0    0    0    1    0    0    0    0    0    0    0    1    1    0   \n",
       "9    0    0    0    0    1    0    0    0    0    1    0    1    1    1    0   \n",
       "\n",
       "   U06  \n",
       "0    0  \n",
       "1    1  \n",
       "2    0  \n",
       "3    0  \n",
       "4    0  \n",
       "5    0  \n",
       "6    0  \n",
       "7    0  \n",
       "8    0  \n",
       "9    0  "
      ]
     },
     "execution_count": 117,
     "metadata": {},
     "output_type": "execute_result"
    }
   ],
   "source": [
    "encod.head(10)"
   ]
  },
  {
   "cell_type": "code",
   "execution_count": 13,
   "metadata": {},
   "outputs": [],
   "source": [
    "new_df=pd.concat([df,encod],axis=1)"
   ]
  },
  {
   "cell_type": "code",
   "execution_count": 118,
   "metadata": {},
   "outputs": [
    {
     "data": {
      "text/html": [
       "<div>\n",
       "<style scoped>\n",
       "    .dataframe tbody tr th:only-of-type {\n",
       "        vertical-align: middle;\n",
       "    }\n",
       "\n",
       "    .dataframe tbody tr th {\n",
       "        vertical-align: top;\n",
       "    }\n",
       "\n",
       "    .dataframe thead th {\n",
       "        text-align: right;\n",
       "    }\n",
       "</style>\n",
       "<table border=\"1\" class=\"dataframe\">\n",
       "  <thead>\n",
       "    <tr style=\"text-align: right;\">\n",
       "      <th></th>\n",
       "      <th>id</th>\n",
       "      <th>gleason_score</th>\n",
       "      <th>age</th>\n",
       "      <th>height</th>\n",
       "      <th>weight</th>\n",
       "      <th>family_history</th>\n",
       "      <th>first_degree_history</th>\n",
       "      <th>previous_cancer</th>\n",
       "      <th>smoker</th>\n",
       "      <th>side</th>\n",
       "      <th>...</th>\n",
       "      <th>P02</th>\n",
       "      <th>P03</th>\n",
       "      <th>S04</th>\n",
       "      <th>S07</th>\n",
       "      <th>S10</th>\n",
       "      <th>U01</th>\n",
       "      <th>U02</th>\n",
       "      <th>U03</th>\n",
       "      <th>U05</th>\n",
       "      <th>U06</th>\n",
       "    </tr>\n",
       "  </thead>\n",
       "  <tbody>\n",
       "    <tr>\n",
       "      <th>0</th>\n",
       "      <td>1</td>\n",
       "      <td>4.0</td>\n",
       "      <td>Elder</td>\n",
       "      <td>66.0</td>\n",
       "      <td>Low_weight</td>\n",
       "      <td>0.0</td>\n",
       "      <td>0.0</td>\n",
       "      <td>0.0</td>\n",
       "      <td>0.0</td>\n",
       "      <td>both</td>\n",
       "      <td>...</td>\n",
       "      <td>0</td>\n",
       "      <td>0</td>\n",
       "      <td>0</td>\n",
       "      <td>0</td>\n",
       "      <td>0</td>\n",
       "      <td>0</td>\n",
       "      <td>0</td>\n",
       "      <td>1</td>\n",
       "      <td>0</td>\n",
       "      <td>0</td>\n",
       "    </tr>\n",
       "    <tr>\n",
       "      <th>1</th>\n",
       "      <td>2</td>\n",
       "      <td>8.0</td>\n",
       "      <td>Elder</td>\n",
       "      <td>70.0</td>\n",
       "      <td>Normal_weight</td>\n",
       "      <td>0.0</td>\n",
       "      <td>0.0</td>\n",
       "      <td>0.0</td>\n",
       "      <td>1.0</td>\n",
       "      <td>both</td>\n",
       "      <td>...</td>\n",
       "      <td>0</td>\n",
       "      <td>0</td>\n",
       "      <td>0</td>\n",
       "      <td>1</td>\n",
       "      <td>0</td>\n",
       "      <td>0</td>\n",
       "      <td>0</td>\n",
       "      <td>0</td>\n",
       "      <td>0</td>\n",
       "      <td>1</td>\n",
       "    </tr>\n",
       "    <tr>\n",
       "      <th>2</th>\n",
       "      <td>3</td>\n",
       "      <td>9.0</td>\n",
       "      <td>Elder</td>\n",
       "      <td>69.0</td>\n",
       "      <td>Normal_weight</td>\n",
       "      <td>0.0</td>\n",
       "      <td>0.0</td>\n",
       "      <td>0.0</td>\n",
       "      <td>0.0</td>\n",
       "      <td>right</td>\n",
       "      <td>...</td>\n",
       "      <td>0</td>\n",
       "      <td>0</td>\n",
       "      <td>0</td>\n",
       "      <td>0</td>\n",
       "      <td>1</td>\n",
       "      <td>1</td>\n",
       "      <td>1</td>\n",
       "      <td>1</td>\n",
       "      <td>0</td>\n",
       "      <td>0</td>\n",
       "    </tr>\n",
       "    <tr>\n",
       "      <th>3</th>\n",
       "      <td>4</td>\n",
       "      <td>8.0</td>\n",
       "      <td>Elder</td>\n",
       "      <td>69.0</td>\n",
       "      <td>Normal_weight</td>\n",
       "      <td>0.0</td>\n",
       "      <td>0.0</td>\n",
       "      <td>0.0</td>\n",
       "      <td>0.0</td>\n",
       "      <td>right</td>\n",
       "      <td>...</td>\n",
       "      <td>0</td>\n",
       "      <td>0</td>\n",
       "      <td>0</td>\n",
       "      <td>0</td>\n",
       "      <td>1</td>\n",
       "      <td>1</td>\n",
       "      <td>1</td>\n",
       "      <td>0</td>\n",
       "      <td>0</td>\n",
       "      <td>0</td>\n",
       "    </tr>\n",
       "    <tr>\n",
       "      <th>4</th>\n",
       "      <td>5</td>\n",
       "      <td>8.0</td>\n",
       "      <td>Elder</td>\n",
       "      <td>70.0</td>\n",
       "      <td>Normal_weight</td>\n",
       "      <td>1.0</td>\n",
       "      <td>1.0</td>\n",
       "      <td>0.0</td>\n",
       "      <td>0.0</td>\n",
       "      <td>left</td>\n",
       "      <td>...</td>\n",
       "      <td>0</td>\n",
       "      <td>0</td>\n",
       "      <td>0</td>\n",
       "      <td>1</td>\n",
       "      <td>0</td>\n",
       "      <td>1</td>\n",
       "      <td>0</td>\n",
       "      <td>1</td>\n",
       "      <td>1</td>\n",
       "      <td>0</td>\n",
       "    </tr>\n",
       "  </tbody>\n",
       "</table>\n",
       "<p>5 rows × 66 columns</p>\n",
       "</div>"
      ],
      "text/plain": [
       "   id  gleason_score    age  height         weight  family_history  \\\n",
       "0   1            4.0  Elder    66.0     Low_weight             0.0   \n",
       "1   2            8.0  Elder    70.0  Normal_weight             0.0   \n",
       "2   3            9.0  Elder    69.0  Normal_weight             0.0   \n",
       "3   4            8.0  Elder    69.0  Normal_weight             0.0   \n",
       "4   5            8.0  Elder    70.0  Normal_weight             1.0   \n",
       "\n",
       "   first_degree_history  previous_cancer  smoker   side ...  P02 P03  S04  \\\n",
       "0                   0.0              0.0     0.0   both ...    0   0    0   \n",
       "1                   0.0              0.0     1.0   both ...    0   0    0   \n",
       "2                   0.0              0.0     0.0  right ...    0   0    0   \n",
       "3                   0.0              0.0     0.0  right ...    0   0    0   \n",
       "4                   1.0              0.0     0.0   left ...    0   0    0   \n",
       "\n",
       "   S07  S10  U01  U02  U03  U05  U06  \n",
       "0    0    0    0    0    1    0    0  \n",
       "1    1    0    0    0    0    0    1  \n",
       "2    0    1    1    1    1    0    0  \n",
       "3    0    1    1    1    0    0    0  \n",
       "4    1    0    1    0    1    1    0  \n",
       "\n",
       "[5 rows x 66 columns]"
      ]
     },
     "execution_count": 118,
     "metadata": {},
     "output_type": "execute_result"
    }
   ],
   "source": [
    "new_df.head()"
   ]
  },
  {
   "cell_type": "code",
   "execution_count": 132,
   "metadata": {},
   "outputs": [],
   "source": [
    "drop_column = ['tumor_1_year']\n",
    "new_df.drop(drop_column, axis=1, inplace = True)"
   ]
  },
  {
   "cell_type": "code",
   "execution_count": 123,
   "metadata": {},
   "outputs": [
    {
     "data": {
      "text/plain": [
       "U06            0\n",
       "t_score_T3c    0\n",
       "t_score_T3a    0\n",
       "t_score_T2c    0\n",
       "dtype: int64"
      ]
     },
     "execution_count": 123,
     "metadata": {},
     "output_type": "execute_result"
    }
   ],
   "source": [
    "new_df.isnull().sum().sort_values(ascending=False).head(4)"
   ]
  },
  {
   "cell_type": "markdown",
   "metadata": {},
   "source": [
    "### remove the catergerical various **symptoms**"
   ]
  },
  {
   "cell_type": "code",
   "execution_count": 125,
   "metadata": {},
   "outputs": [],
   "source": [
    "d=['diagnosis_date','symptoms']\n",
    "new_df.drop(d, axis=1, inplace = True)"
   ]
  },
  {
   "cell_type": "code",
   "execution_count": 48,
   "metadata": {},
   "outputs": [
    {
     "data": {
      "text/html": [
       "<div>\n",
       "<style scoped>\n",
       "    .dataframe tbody tr th:only-of-type {\n",
       "        vertical-align: middle;\n",
       "    }\n",
       "\n",
       "    .dataframe tbody tr th {\n",
       "        vertical-align: top;\n",
       "    }\n",
       "\n",
       "    .dataframe thead th {\n",
       "        text-align: right;\n",
       "    }\n",
       "</style>\n",
       "<table border=\"1\" class=\"dataframe\">\n",
       "  <thead>\n",
       "    <tr style=\"text-align: right;\">\n",
       "      <th></th>\n",
       "      <th>id</th>\n",
       "      <th>gleason_score</th>\n",
       "      <th>age</th>\n",
       "      <th>height</th>\n",
       "      <th>weight</th>\n",
       "      <th>family_history</th>\n",
       "      <th>first_degree_history</th>\n",
       "      <th>previous_cancer</th>\n",
       "      <th>smoker</th>\n",
       "      <th>side</th>\n",
       "      <th>...</th>\n",
       "      <th>P02</th>\n",
       "      <th>P03</th>\n",
       "      <th>S04</th>\n",
       "      <th>S07</th>\n",
       "      <th>S10</th>\n",
       "      <th>U01</th>\n",
       "      <th>U02</th>\n",
       "      <th>U03</th>\n",
       "      <th>U05</th>\n",
       "      <th>U06</th>\n",
       "    </tr>\n",
       "  </thead>\n",
       "  <tbody>\n",
       "    <tr>\n",
       "      <th>0</th>\n",
       "      <td>1</td>\n",
       "      <td>4.0</td>\n",
       "      <td>Elder</td>\n",
       "      <td>66.0</td>\n",
       "      <td>158.0</td>\n",
       "      <td>0.0</td>\n",
       "      <td>0.0</td>\n",
       "      <td>0.0</td>\n",
       "      <td>0.0</td>\n",
       "      <td>both</td>\n",
       "      <td>...</td>\n",
       "      <td>0</td>\n",
       "      <td>0</td>\n",
       "      <td>0</td>\n",
       "      <td>0</td>\n",
       "      <td>0</td>\n",
       "      <td>0</td>\n",
       "      <td>0</td>\n",
       "      <td>1</td>\n",
       "      <td>0</td>\n",
       "      <td>0</td>\n",
       "    </tr>\n",
       "    <tr>\n",
       "      <th>1</th>\n",
       "      <td>2</td>\n",
       "      <td>8.0</td>\n",
       "      <td>Elder</td>\n",
       "      <td>70.0</td>\n",
       "      <td>174.0</td>\n",
       "      <td>0.0</td>\n",
       "      <td>0.0</td>\n",
       "      <td>0.0</td>\n",
       "      <td>1.0</td>\n",
       "      <td>both</td>\n",
       "      <td>...</td>\n",
       "      <td>0</td>\n",
       "      <td>0</td>\n",
       "      <td>0</td>\n",
       "      <td>1</td>\n",
       "      <td>0</td>\n",
       "      <td>0</td>\n",
       "      <td>0</td>\n",
       "      <td>0</td>\n",
       "      <td>0</td>\n",
       "      <td>1</td>\n",
       "    </tr>\n",
       "    <tr>\n",
       "      <th>2</th>\n",
       "      <td>3</td>\n",
       "      <td>9.0</td>\n",
       "      <td>Elder</td>\n",
       "      <td>69.0</td>\n",
       "      <td>174.0</td>\n",
       "      <td>0.0</td>\n",
       "      <td>0.0</td>\n",
       "      <td>0.0</td>\n",
       "      <td>0.0</td>\n",
       "      <td>right</td>\n",
       "      <td>...</td>\n",
       "      <td>0</td>\n",
       "      <td>0</td>\n",
       "      <td>0</td>\n",
       "      <td>0</td>\n",
       "      <td>1</td>\n",
       "      <td>1</td>\n",
       "      <td>1</td>\n",
       "      <td>1</td>\n",
       "      <td>0</td>\n",
       "      <td>0</td>\n",
       "    </tr>\n",
       "    <tr>\n",
       "      <th>3</th>\n",
       "      <td>4</td>\n",
       "      <td>8.0</td>\n",
       "      <td>Elder</td>\n",
       "      <td>69.0</td>\n",
       "      <td>173.0</td>\n",
       "      <td>0.0</td>\n",
       "      <td>0.0</td>\n",
       "      <td>0.0</td>\n",
       "      <td>0.0</td>\n",
       "      <td>right</td>\n",
       "      <td>...</td>\n",
       "      <td>0</td>\n",
       "      <td>0</td>\n",
       "      <td>0</td>\n",
       "      <td>0</td>\n",
       "      <td>1</td>\n",
       "      <td>1</td>\n",
       "      <td>1</td>\n",
       "      <td>0</td>\n",
       "      <td>0</td>\n",
       "      <td>0</td>\n",
       "    </tr>\n",
       "    <tr>\n",
       "      <th>4</th>\n",
       "      <td>5</td>\n",
       "      <td>8.0</td>\n",
       "      <td>Elder</td>\n",
       "      <td>70.0</td>\n",
       "      <td>201.0</td>\n",
       "      <td>1.0</td>\n",
       "      <td>1.0</td>\n",
       "      <td>0.0</td>\n",
       "      <td>0.0</td>\n",
       "      <td>left</td>\n",
       "      <td>...</td>\n",
       "      <td>0</td>\n",
       "      <td>0</td>\n",
       "      <td>0</td>\n",
       "      <td>1</td>\n",
       "      <td>0</td>\n",
       "      <td>1</td>\n",
       "      <td>0</td>\n",
       "      <td>1</td>\n",
       "      <td>1</td>\n",
       "      <td>0</td>\n",
       "    </tr>\n",
       "  </tbody>\n",
       "</table>\n",
       "<p>5 rows × 66 columns</p>\n",
       "</div>"
      ],
      "text/plain": [
       "   id  gleason_score    age  height  weight  family_history  \\\n",
       "0   1            4.0  Elder    66.0   158.0             0.0   \n",
       "1   2            8.0  Elder    70.0   174.0             0.0   \n",
       "2   3            9.0  Elder    69.0   174.0             0.0   \n",
       "3   4            8.0  Elder    69.0   173.0             0.0   \n",
       "4   5            8.0  Elder    70.0   201.0             1.0   \n",
       "\n",
       "   first_degree_history  previous_cancer  smoker   side ...   P02  P03  S04  \\\n",
       "0                   0.0              0.0     0.0   both ...     0    0    0   \n",
       "1                   0.0              0.0     1.0   both ...     0    0    0   \n",
       "2                   0.0              0.0     0.0  right ...     0    0    0   \n",
       "3                   0.0              0.0     0.0  right ...     0    0    0   \n",
       "4                   1.0              0.0     0.0   left ...     0    0    0   \n",
       "\n",
       "   S07  S10  U01  U02  U03  U05  U06  \n",
       "0    0    0    0    0    1    0    0  \n",
       "1    1    0    0    0    0    0    1  \n",
       "2    0    1    1    1    1    0    0  \n",
       "3    0    1    1    1    0    0    0  \n",
       "4    1    0    1    0    1    1    0  \n",
       "\n",
       "[5 rows x 66 columns]"
      ]
     },
     "execution_count": 48,
     "metadata": {},
     "output_type": "execute_result"
    }
   ],
   "source": [
    "new_df.head()"
   ]
  },
  {
   "cell_type": "markdown",
   "metadata": {},
   "source": [
    "\n",
    "'Gleason_size' is the next variable in the list. our hypothesis is see which medium size of gleason score has high dead rate.Personally, I don't have any special intuition about Large size of gleason score, since they are the most vulnerable. This can play for both sides: either people has large gleason score elder they are more vulnerable, or they they are not able to protected them self with higher score of gleason which lead to dead\n",
    "\n",
    "Let's call the usual suspect (bar plot) to help us understanding the situation.\n"
   ]
  },
  {
   "cell_type": "code",
   "execution_count": 154,
   "metadata": {},
   "outputs": [
    {
     "data": {
      "text/plain": [
       "0     Small\n",
       "1    Medium\n",
       "2    Medium\n",
       "3    Medium\n",
       "4    Medium\n",
       "Name: gleason_score_bin, dtype: category\n",
       "Categories (3, object): [Small < Medium < Large]"
      ]
     },
     "execution_count": 154,
     "metadata": {},
     "output_type": "execute_result"
    }
   ],
   "source": [
    "# Bin data\n",
    "new_df['gleason_score_bin'] = pd.cut(df['gleason_score'], bins=[0, 5, 10, 20], labels=['Small','Medium','Large'])\n",
    "new_df['gleason_score_bin'].head()"
   ]
  },
  {
   "cell_type": "code",
   "execution_count": 152,
   "metadata": {},
   "outputs": [
    {
     "data": {
      "text/plain": [
       "<matplotlib.axes._subplots.AxesSubplot at 0x21bb9b70>"
      ]
     },
     "execution_count": 152,
     "metadata": {},
     "output_type": "execute_result"
    },
    {
     "data": {
      "image/png": "[encoded data removed]",
      "text/plain": [
       "<Figure size 432x288 with 1 Axes>"
      ]
     },
     "metadata": {},
     "output_type": "display_data"
    }
   ],
   "source": [
    "sns.countplot('gleason_score_bin',hue='survival_7_years',data=new_df)"
   ]
  },
  {
   "cell_type": "code",
   "execution_count": null,
   "metadata": {},
   "outputs": [],
   "source": []
  },
  {
   "cell_type": "code",
   "execution_count": null,
   "metadata": {},
   "outputs": [],
   "source": []
  },
  {
   "cell_type": "markdown",
   "metadata": {},
   "source": [
    "### Age"
   ]
  },
  {
   "cell_type": "markdown",
   "metadata": {},
   "source": [
    "'Age' is the next variable in the list. Our hypothesis is that children are more prone to survive, while people in its adult life may have a lower rate of survival. Personally, I don't have any special intuition about elders, since they are the most vulnerable. This can play for both sides: either people help elders because they are more vulnerable, or they they are not able to cope with the challenges posed by the wreck of a ship.\n",
    "\n",
    "Let's call the usual suspect (bar plot) to help us understanding the situation."
   ]
  },
  {
   "cell_type": "code",
   "execution_count": 38,
   "metadata": {},
   "outputs": [
    {
     "data": {
      "image/png": "[encoded data removed]",
      "text/plain": [
       "<Figure size 1800x720 with 1 Axes>"
      ]
     },
     "metadata": {},
     "output_type": "display_data"
    }
   ],
   "source": [
    "plt.figure(figsize=(25,10))\n",
    "sns.barplot(df['age'],df['survival_7_years'], ci=None)\n",
    "plt.xticks(rotation=90)"
   ]
  },
  {
   "cell_type": "markdown",
   "metadata": {},
   "source": [
    "With a little bit of creativity, we can say that the plot has three regions:\n",
    "\n",
    "One region that goes between age 0 and 15;\n",
    "\n",
    "One between age 15 and 48\n",
    "\n",
    "A last one between age 48 and 100.\n",
    "\n",
    "I know that this division is arguable, especially in what concerns the last two categories. However, the point is that this categories split fits into what we know about the way our society is organized: childrens, adults and elders. For now, let's proceed this way."
   ]
  },
  {
   "cell_type": "code",
   "execution_count": 58,
   "metadata": {},
   "outputs": [
    {
     "data": {
      "text/plain": [
       "(array([ 0,  1,  2,  3,  4,  5,  6,  7,  8,  9, 10, 11, 12, 13, 14, 15, 16,\n",
       "        17, 18, 19, 20, 21, 22, 23, 24, 25, 26, 27, 28, 29, 30, 31, 32, 33,\n",
       "        34, 35, 36, 37, 38, 39, 40, 41, 42, 43, 44, 45, 46, 47, 48, 49, 50,\n",
       "        51, 52, 53, 54, 55, 56, 57, 58, 59, 60, 61, 62, 63, 64, 65, 66, 67,\n",
       "        68, 69, 70, 71, 72]), <a list of 73 Text xticklabel objects>)"
      ]
     },
     "execution_count": 58,
     "metadata": {},
     "output_type": "execute_result"
    },
    {
     "data": {
      "image/png": "[encoded data removed]",
      "text/plain": [
       "<Figure size 1080x720 with 1 Axes>"
      ]
     },
     "metadata": {},
     "output_type": "display_data"
    }
   ],
   "source": [
    "limit_1 = 12\n",
    "limit_2 = 50\n",
    "\n",
    "x_limit_1 = np.size(df[df['age'] < limit_1]['age'].unique())\n",
    "x_limit_2 = np.size(df[df['age'] < limit_2]['age'].unique())\n",
    "\n",
    "plt.figure(figsize=(15,10))\n",
    "#sns.barplot(df['age'],df['survival_7_years'], ci=None)\n",
    "sns.countplot('age',hue='survival_7_years',data=df)\n",
    "plt.axvspan(-1, x_limit_1, alpha=0.25, color='green')\n",
    "plt.axvspan(x_limit_1, x_limit_2, alpha=0.25, color='red')\n",
    "plt.axvspan(x_limit_2, 100, alpha=0.25, color='yellow')\n",
    "\n",
    "plt.xticks(rotation=90)"
   ]
  },
  {
   "cell_type": "markdown",
   "metadata": {},
   "source": [
    "#### by looking at the above plot it make a proof that the dead rate is high in older age"
   ]
  },
  {
   "cell_type": "code",
   "execution_count": 44,
   "metadata": {},
   "outputs": [
    {
     "data": {
      "text/plain": [
       "0    Elder\n",
       "1    Elder\n",
       "2    Elder\n",
       "3    Elder\n",
       "4    Elder\n",
       "Name: age, dtype: category\n",
       "Categories (3, object): [Child < Adult < Elder]"
      ]
     },
     "execution_count": 44,
     "metadata": {},
     "output_type": "execute_result"
    }
   ],
   "source": [
    "# Bin data\n",
    "new_df['age'] = pd.cut(df['age'], bins=[0, 12, 50, 200], labels=['Child','Adult','Elder'])\n",
    "new_df['age'].head()"
   ]
  },
  {
   "cell_type": "code",
   "execution_count": 47,
   "metadata": {},
   "outputs": [
    {
     "data": {
      "text/plain": [
       "<matplotlib.axes._subplots.AxesSubplot at 0xff48668>"
      ]
     },
     "execution_count": 47,
     "metadata": {},
     "output_type": "execute_result"
    },
    {
     "data": {
      "image/png": "[encoded data removed]",
      "text/plain": [
       "<Figure size 432x288 with 1 Axes>"
      ]
     },
     "metadata": {},
     "output_type": "display_data"
    }
   ],
   "source": [
    "sns.countplot('age',hue='survival_7_years',data=new_df)"
   ]
  },
  {
   "cell_type": "markdown",
   "metadata": {},
   "source": [
    "Height"
   ]
  },
  {
   "cell_type": "code",
   "execution_count": 60,
   "metadata": {},
   "outputs": [
    {
     "data": {
      "text/plain": [
       "69.0    6274\n",
       "70.0    3700\n",
       "68.0    3000\n",
       "71.0    1277\n",
       "67.0     801\n",
       "72.0     229\n",
       "66.0      85\n",
       "73.0      14\n",
       "65.0       5\n",
       "Name: height, dtype: int64"
      ]
     },
     "execution_count": 60,
     "metadata": {},
     "output_type": "execute_result"
    }
   ],
   "source": [
    "df[\"height\"].value_counts()"
   ]
  },
  {
   "cell_type": "code",
   "execution_count": 61,
   "metadata": {},
   "outputs": [
    {
     "data": {
      "text/plain": [
       "<matplotlib.axes._subplots.AxesSubplot at 0x119f67b8>"
      ]
     },
     "execution_count": 61,
     "metadata": {},
     "output_type": "execute_result"
    },
    {
     "data": {
      "image/png": "[encoded data removed]",
      "text/plain": [
       "<Figure size 432x288 with 1 Axes>"
      ]
     },
     "metadata": {},
     "output_type": "display_data"
    }
   ],
   "source": [
    "sns.countplot('height',hue='survival_7_years',data=new_df)"
   ]
  },
  {
   "cell_type": "markdown",
   "metadata": {},
   "source": [
    "As we can see, when 'Height' is between 65 and 73, our hypothesis finds some support.\n",
    "\n",
    "However, when height is between 67 and 73, things start to change. Despite the large variability of the results, the survival rate drops. This may suggest that our hypothesis should be revised when 'height' is higher than 69.\n",
    "\n",
    "This variable seems to be more complex than expected. Accordingly, we will not make any transformation in this variable and we will leave it as a continuous variable to preserve all the information it has."
   ]
  },
  {
   "cell_type": "markdown",
   "metadata": {},
   "source": [
    "## Weight factor"
   ]
  },
  {
   "cell_type": "code",
   "execution_count": 76,
   "metadata": {},
   "outputs": [
    {
     "data": {
      "text/plain": [
       "(array([  0,   1,   2,   3,   4,   5,   6,   7,   8,   9,  10,  11,  12,\n",
       "         13,  14,  15,  16,  17,  18,  19,  20,  21,  22,  23,  24,  25,\n",
       "         26,  27,  28,  29,  30,  31,  32,  33,  34,  35,  36,  37,  38,\n",
       "         39,  40,  41,  42,  43,  44,  45,  46,  47,  48,  49,  50,  51,\n",
       "         52,  53,  54,  55,  56,  57,  58,  59,  60,  61,  62,  63,  64,\n",
       "         65,  66,  67,  68,  69,  70,  71,  72,  73,  74,  75,  76,  77,\n",
       "         78,  79,  80,  81,  82,  83,  84,  85,  86,  87,  88,  89,  90,\n",
       "         91,  92,  93,  94,  95,  96,  97,  98,  99, 100, 101, 102, 103,\n",
       "        104, 105, 106, 107, 108, 109, 110, 111, 112, 113, 114, 115, 116,\n",
       "        117, 118, 119, 120, 121, 122, 123, 124, 125, 126, 127, 128, 129,\n",
       "        130, 131, 132, 133, 134, 135, 136, 137, 138, 139, 140, 141, 142,\n",
       "        143, 144, 145, 146, 147, 148, 149, 150, 151, 152, 153, 154, 155,\n",
       "        156, 157]), <a list of 158 Text xticklabel objects>)"
      ]
     },
     "execution_count": 76,
     "metadata": {},
     "output_type": "execute_result"
    },
    {
     "data": {
      "image/png": "[encoded data removed]",
      "text/plain": [
       "<Figure size 1080x576 with 1 Axes>"
      ]
     },
     "metadata": {},
     "output_type": "display_data"
    }
   ],
   "source": [
    "limit_1 = 170\n",
    "limit_2 = 230\n",
    "limit_3 = 450\n",
    "\n",
    "x_limit_1 = np.size(df[df['weight'] < limit_1]['weight'].unique())\n",
    "x_limit_2 = np.size(df[df['weight'] < limit_2]['weight'].unique())\n",
    "x_limit_3 = np.size(df[df['weight'] < limit_3]['weight'].unique())\n",
    "plt.figure(figsize=(15,8))\n",
    "sns.barplot(df['weight'],df['survival_7_years'], ci=None)\n",
    "\n",
    "plt.axvspan(-1, x_limit_1, alpha=0.25, color='green')\n",
    "plt.axvspan(x_limit_1, x_limit_2, alpha=0.25, color='red')\n",
    "plt.axvspan(x_limit_2,x_limit_3,alpha=0.25, color='yellow')\n",
    "plt.axvspan(x_limit_3,100, alpha=0.25, color='blue')\n",
    "plt.xticks(rotation=90)"
   ]
  },
  {
   "cell_type": "code",
   "execution_count": 78,
   "metadata": {},
   "outputs": [
    {
     "data": {
      "text/plain": [
       "0       Low_weight\n",
       "1    Normal_weight\n",
       "2    Normal_weight\n",
       "3    Normal_weight\n",
       "4    Normal_weight\n",
       "Name: weight, dtype: category\n",
       "Categories (3, object): [Low_weight < Normal_weight < overweight]"
      ]
     },
     "execution_count": 78,
     "metadata": {},
     "output_type": "execute_result"
    }
   ],
   "source": [
    "# Bin data\n",
    "new_df['weight'] = pd.cut(new_df['weight'], bins=[0, 170, 230, 400], \n",
    "                          labels=['Low_weight','Normal_weight','overweight'])\n",
    "new_df['weight'].head()"
   ]
  },
  {
   "cell_type": "code",
   "execution_count": 79,
   "metadata": {},
   "outputs": [
    {
     "data": {
      "text/plain": [
       "<matplotlib.axes._subplots.AxesSubplot at 0x122d6dd8>"
      ]
     },
     "execution_count": 79,
     "metadata": {},
     "output_type": "execute_result"
    },
    {
     "data": {
      "image/png": "[encoded data removed]",
      "text/plain": [
       "<Figure size 432x288 with 1 Axes>"
      ]
     },
     "metadata": {},
     "output_type": "display_data"
    }
   ],
   "source": [
    "sns.countplot('weight',hue='survival_7_years',data=new_df)"
   ]
  },
  {
   "cell_type": "code",
   "execution_count": 80,
   "metadata": {},
   "outputs": [
    {
     "data": {
      "text/html": [
       "<div>\n",
       "<style scoped>\n",
       "    .dataframe tbody tr th:only-of-type {\n",
       "        vertical-align: middle;\n",
       "    }\n",
       "\n",
       "    .dataframe tbody tr th {\n",
       "        vertical-align: top;\n",
       "    }\n",
       "\n",
       "    .dataframe thead th {\n",
       "        text-align: right;\n",
       "    }\n",
       "</style>\n",
       "<table border=\"1\" class=\"dataframe\">\n",
       "  <thead>\n",
       "    <tr style=\"text-align: right;\">\n",
       "      <th></th>\n",
       "      <th>id</th>\n",
       "      <th>gleason_score</th>\n",
       "      <th>age</th>\n",
       "      <th>height</th>\n",
       "      <th>weight</th>\n",
       "      <th>family_history</th>\n",
       "      <th>first_degree_history</th>\n",
       "      <th>previous_cancer</th>\n",
       "      <th>smoker</th>\n",
       "      <th>side</th>\n",
       "      <th>...</th>\n",
       "      <th>P02</th>\n",
       "      <th>P03</th>\n",
       "      <th>S04</th>\n",
       "      <th>S07</th>\n",
       "      <th>S10</th>\n",
       "      <th>U01</th>\n",
       "      <th>U02</th>\n",
       "      <th>U03</th>\n",
       "      <th>U05</th>\n",
       "      <th>U06</th>\n",
       "    </tr>\n",
       "  </thead>\n",
       "  <tbody>\n",
       "    <tr>\n",
       "      <th>0</th>\n",
       "      <td>1</td>\n",
       "      <td>4.0</td>\n",
       "      <td>Elder</td>\n",
       "      <td>66.0</td>\n",
       "      <td>Low_weight</td>\n",
       "      <td>0.0</td>\n",
       "      <td>0.0</td>\n",
       "      <td>0.0</td>\n",
       "      <td>0.0</td>\n",
       "      <td>both</td>\n",
       "      <td>...</td>\n",
       "      <td>0</td>\n",
       "      <td>0</td>\n",
       "      <td>0</td>\n",
       "      <td>0</td>\n",
       "      <td>0</td>\n",
       "      <td>0</td>\n",
       "      <td>0</td>\n",
       "      <td>1</td>\n",
       "      <td>0</td>\n",
       "      <td>0</td>\n",
       "    </tr>\n",
       "    <tr>\n",
       "      <th>1</th>\n",
       "      <td>2</td>\n",
       "      <td>8.0</td>\n",
       "      <td>Elder</td>\n",
       "      <td>70.0</td>\n",
       "      <td>Normal_weight</td>\n",
       "      <td>0.0</td>\n",
       "      <td>0.0</td>\n",
       "      <td>0.0</td>\n",
       "      <td>1.0</td>\n",
       "      <td>both</td>\n",
       "      <td>...</td>\n",
       "      <td>0</td>\n",
       "      <td>0</td>\n",
       "      <td>0</td>\n",
       "      <td>1</td>\n",
       "      <td>0</td>\n",
       "      <td>0</td>\n",
       "      <td>0</td>\n",
       "      <td>0</td>\n",
       "      <td>0</td>\n",
       "      <td>1</td>\n",
       "    </tr>\n",
       "    <tr>\n",
       "      <th>2</th>\n",
       "      <td>3</td>\n",
       "      <td>9.0</td>\n",
       "      <td>Elder</td>\n",
       "      <td>69.0</td>\n",
       "      <td>Normal_weight</td>\n",
       "      <td>0.0</td>\n",
       "      <td>0.0</td>\n",
       "      <td>0.0</td>\n",
       "      <td>0.0</td>\n",
       "      <td>right</td>\n",
       "      <td>...</td>\n",
       "      <td>0</td>\n",
       "      <td>0</td>\n",
       "      <td>0</td>\n",
       "      <td>0</td>\n",
       "      <td>1</td>\n",
       "      <td>1</td>\n",
       "      <td>1</td>\n",
       "      <td>1</td>\n",
       "      <td>0</td>\n",
       "      <td>0</td>\n",
       "    </tr>\n",
       "    <tr>\n",
       "      <th>3</th>\n",
       "      <td>4</td>\n",
       "      <td>8.0</td>\n",
       "      <td>Elder</td>\n",
       "      <td>69.0</td>\n",
       "      <td>Normal_weight</td>\n",
       "      <td>0.0</td>\n",
       "      <td>0.0</td>\n",
       "      <td>0.0</td>\n",
       "      <td>0.0</td>\n",
       "      <td>right</td>\n",
       "      <td>...</td>\n",
       "      <td>0</td>\n",
       "      <td>0</td>\n",
       "      <td>0</td>\n",
       "      <td>0</td>\n",
       "      <td>1</td>\n",
       "      <td>1</td>\n",
       "      <td>1</td>\n",
       "      <td>0</td>\n",
       "      <td>0</td>\n",
       "      <td>0</td>\n",
       "    </tr>\n",
       "    <tr>\n",
       "      <th>4</th>\n",
       "      <td>5</td>\n",
       "      <td>8.0</td>\n",
       "      <td>Elder</td>\n",
       "      <td>70.0</td>\n",
       "      <td>Normal_weight</td>\n",
       "      <td>1.0</td>\n",
       "      <td>1.0</td>\n",
       "      <td>0.0</td>\n",
       "      <td>0.0</td>\n",
       "      <td>left</td>\n",
       "      <td>...</td>\n",
       "      <td>0</td>\n",
       "      <td>0</td>\n",
       "      <td>0</td>\n",
       "      <td>1</td>\n",
       "      <td>0</td>\n",
       "      <td>1</td>\n",
       "      <td>0</td>\n",
       "      <td>1</td>\n",
       "      <td>1</td>\n",
       "      <td>0</td>\n",
       "    </tr>\n",
       "  </tbody>\n",
       "</table>\n",
       "<p>5 rows × 66 columns</p>\n",
       "</div>"
      ],
      "text/plain": [
       "   id  gleason_score    age  height         weight  family_history  \\\n",
       "0   1            4.0  Elder    66.0     Low_weight             0.0   \n",
       "1   2            8.0  Elder    70.0  Normal_weight             0.0   \n",
       "2   3            9.0  Elder    69.0  Normal_weight             0.0   \n",
       "3   4            8.0  Elder    69.0  Normal_weight             0.0   \n",
       "4   5            8.0  Elder    70.0  Normal_weight             1.0   \n",
       "\n",
       "   first_degree_history  previous_cancer  smoker   side ...   P02  P03  S04  \\\n",
       "0                   0.0              0.0     0.0   both ...     0    0    0   \n",
       "1                   0.0              0.0     1.0   both ...     0    0    0   \n",
       "2                   0.0              0.0     0.0  right ...     0    0    0   \n",
       "3                   0.0              0.0     0.0  right ...     0    0    0   \n",
       "4                   1.0              0.0     0.0   left ...     0    0    0   \n",
       "\n",
       "   S07  S10  U01  U02  U03  U05  U06  \n",
       "0    0    0    0    0    1    0    0  \n",
       "1    1    0    0    0    0    0    1  \n",
       "2    0    1    1    1    1    0    0  \n",
       "3    0    1    1    1    0    0    0  \n",
       "4    1    0    1    0    1    1    0  \n",
       "\n",
       "[5 rows x 66 columns]"
      ]
     },
     "execution_count": 80,
     "metadata": {},
     "output_type": "execute_result"
    }
   ],
   "source": [
    "new_df.head()"
   ]
  },
  {
   "cell_type": "code",
   "execution_count": 82,
   "metadata": {},
   "outputs": [
    {
     "data": {
      "text/plain": [
       "Index([u'id', u'gleason_score', u'age', u'height', u'weight',\n",
       "       u'family_history', u'first_degree_history', u'previous_cancer',\n",
       "       u'smoker', u'side', u'tumor_diagnosis', u'tumor_1_year',\n",
       "       u'psa_diagnosis', u'psa_1_year', u'tea', u'rd_thrpy', u'h_thrpy',\n",
       "       u'chm_thrpy', u'cry_thrpy', u'brch_thrpy', u'rad_rem', u'multi_thrpy',\n",
       "       u'survival_1_year', u'survival_7_years', u't_score_T1a', u't_score_T1b',\n",
       "       u't_score_T1c', u't_score_T2a', u't_score_T2b', u't_score_T2c',\n",
       "       u't_score_T3a', u't_score_T3b', u't_score_T3c', u't_score_T4',\n",
       "       u'n_score_N0', u'n_score_N1', u'n_score_NX', u'stage_I', u'stage_IIA',\n",
       "       u'stage_IIB', u'stage_III', u'stage_IV', u'm_score_M0', u'm_score_M1a',\n",
       "       u'm_score_M1b', u'm_score_M1c', u'race_race_type_1',\n",
       "       u'race_race_type_2', u'race_race_type_3', u'race_race_type_4', u'O01',\n",
       "       u'O08', u'O09', u'O10', u'O11', u'P01', u'P02', u'P03', u'S04', u'S07',\n",
       "       u'S10', u'U01', u'U02', u'U03', u'U05', u'U06'],\n",
       "      dtype='object')"
      ]
     },
     "execution_count": 82,
     "metadata": {},
     "output_type": "execute_result"
    }
   ],
   "source": [
    "new_df.columns"
   ]
  },
  {
   "cell_type": "code",
   "execution_count": 143,
   "metadata": {},
   "outputs": [
    {
     "data": {
      "text/plain": [
       "0.0     3522\n",
       "9.6       96\n",
       "11.5      91\n",
       "7.4       89\n",
       "6.2       88\n",
       "8.6       88\n",
       "7.7       88\n",
       "8.2       86\n",
       "11.8      86\n",
       "11.3      86\n",
       "9.8       85\n",
       "7.8       85\n",
       "5.1       85\n",
       "10.8      85\n",
       "9.3       84\n",
       "10.3      84\n",
       "9.2       84\n",
       "10.0      84\n",
       "6.6       83\n",
       "10.9      83\n",
       "7.6       83\n",
       "10.4      82\n",
       "8.7       82\n",
       "9.1       81\n",
       "10.1      81\n",
       "10.6      81\n",
       "12.0      81\n",
       "8.3       80\n",
       "6.3       80\n",
       "8.4       80\n",
       "        ... \n",
       "23.8       3\n",
       "24.9       3\n",
       "25.9       3\n",
       "24.8       3\n",
       "25.2       2\n",
       "25.5       2\n",
       "26.8       2\n",
       "29.2       2\n",
       "24.6       2\n",
       "24.3       2\n",
       "25.1       2\n",
       "26.6       2\n",
       "25.3       1\n",
       "25.4       1\n",
       "28.4       1\n",
       "26.2       1\n",
       "28.6       1\n",
       "32.6       1\n",
       "26.4       1\n",
       "29.8       1\n",
       "27.5       1\n",
       "29.9       1\n",
       "25.7       1\n",
       "28.7       1\n",
       "25.8       1\n",
       "25.6       1\n",
       "23.4       1\n",
       "29.4       1\n",
       "27.3       1\n",
       "27.1       1\n",
       "Name: psa_1_year, Length: 286, dtype: int64"
      ]
     },
     "execution_count": 143,
     "metadata": {},
     "output_type": "execute_result"
    }
   ],
   "source": [
    "df['psa_1_year'].value_counts()"
   ]
  },
  {
   "cell_type": "code",
   "execution_count": 86,
   "metadata": {},
   "outputs": [
    {
     "data": {
      "text/plain": [
       "(array([  0,   1,   2,   3,   4,   5,   6,   7,   8,   9,  10,  11,  12,\n",
       "         13,  14,  15,  16,  17,  18,  19,  20,  21,  22,  23,  24,  25,\n",
       "         26,  27,  28,  29,  30,  31,  32,  33,  34,  35,  36,  37,  38,\n",
       "         39,  40,  41,  42,  43,  44,  45,  46,  47,  48,  49,  50,  51,\n",
       "         52,  53,  54,  55,  56,  57,  58,  59,  60,  61,  62,  63,  64,\n",
       "         65,  66,  67,  68,  69,  70,  71,  72,  73,  74,  75,  76,  77,\n",
       "         78,  79,  80,  81,  82,  83,  84,  85,  86,  87,  88,  89,  90,\n",
       "         91,  92,  93,  94,  95,  96,  97,  98,  99, 100, 101, 102, 103,\n",
       "        104, 105, 106, 107, 108, 109, 110, 111, 112, 113, 114, 115, 116,\n",
       "        117, 118, 119, 120, 121, 122, 123, 124, 125, 126, 127, 128, 129,\n",
       "        130, 131, 132, 133, 134, 135, 136, 137, 138, 139, 140, 141, 142,\n",
       "        143, 144, 145, 146, 147, 148, 149]),\n",
       " <a list of 150 Text xticklabel objects>)"
      ]
     },
     "execution_count": 86,
     "metadata": {},
     "output_type": "execute_result"
    },
    {
     "data": {
      "image/png": "[encoded data removed]",
      "text/plain": [
       "<Figure size 1080x576 with 1 Axes>"
      ]
     },
     "metadata": {},
     "output_type": "display_data"
    }
   ],
   "source": [
    "limit_1 = 60\n",
    "limit_2 = 100\n",
    "limit_3 = 250\n",
    "\n",
    "x_limit_1 = np.size(df[df['tumor_diagnosis'] < limit_1]['tumor_diagnosis'].unique())\n",
    "x_limit_2 = np.size(df[df['tumor_diagnosis'] < limit_2]['tumor_diagnosis'].unique())\n",
    "x_limit_3 = np.size(df[df['tumor_diagnosis'] < limit_3]['tumor_diagnosis'].unique())\n",
    "plt.figure(figsize=(15,8))\n",
    "sns.barplot(df['tumor_diagnosis'],df['survival_7_years'], ci=None)\n",
    "\n",
    "plt.axvspan(-1, x_limit_1, alpha=0.25, color='green')\n",
    "plt.axvspan(x_limit_1, x_limit_2, alpha=0.25, color='red')\n",
    "plt.axvspan(x_limit_2,x_limit_3,alpha=0.25, color='yellow')\n",
    "plt.axvspan(x_limit_3,100, alpha=0.25, color='blue')\n",
    "plt.xticks(rotation=90)"
   ]
  },
  {
   "cell_type": "code",
   "execution_count": 87,
   "metadata": {},
   "outputs": [
    {
     "data": {
      "text/plain": [
       "0       Large\n",
       "1      Normal\n",
       "2      Normal\n",
       "3    abnormal\n",
       "4       Large\n",
       "Name: tumor_diagnosis, dtype: category\n",
       "Categories (3, object): [Normal < Large < abnormal]"
      ]
     },
     "execution_count": 87,
     "metadata": {},
     "output_type": "execute_result"
    }
   ],
   "source": [
    "# Bin data\n",
    "new_df['tumor_diagnosis'] = pd.cut(new_df['tumor_diagnosis'], bins=[0, 65, 100, 200], \n",
    "                          labels=['Normal','Large','abnormal'])\n",
    "new_df['tumor_diagnosis'].head()"
   ]
  },
  {
   "cell_type": "code",
   "execution_count": 90,
   "metadata": {},
   "outputs": [
    {
     "data": {
      "text/plain": [
       "<matplotlib.axes._subplots.AxesSubplot at 0x17727518>"
      ]
     },
     "execution_count": 90,
     "metadata": {},
     "output_type": "execute_result"
    },
    {
     "data": {
      "image/png": "[encoded data removed]",
      "text/plain": [
       "<Figure size 432x288 with 1 Axes>"
      ]
     },
     "metadata": {},
     "output_type": "display_data"
    }
   ],
   "source": [
    "sns.countplot('tumor_diagnosis',hue='survival_7_years',data=new_df)"
   ]
  },
  {
   "cell_type": "code",
   "execution_count": 120,
   "metadata": {},
   "outputs": [
    {
     "data": {
      "text/plain": [
       "(array([  0,   1,   2,   3,   4,   5,   6,   7,   8,   9,  10,  11,  12,\n",
       "         13,  14,  15,  16,  17,  18,  19,  20,  21,  22,  23,  24,  25,\n",
       "         26,  27,  28,  29,  30,  31,  32,  33,  34,  35,  36,  37,  38,\n",
       "         39,  40,  41,  42,  43,  44,  45,  46,  47,  48,  49,  50,  51,\n",
       "         52,  53,  54,  55,  56,  57,  58,  59,  60,  61,  62,  63,  64,\n",
       "         65,  66,  67,  68,  69,  70,  71,  72,  73,  74,  75,  76,  77,\n",
       "         78,  79,  80,  81,  82,  83,  84,  85,  86,  87,  88,  89,  90,\n",
       "         91,  92,  93,  94,  95,  96,  97,  98,  99, 100, 101, 102, 103,\n",
       "        104, 105, 106, 107, 108, 109, 110, 111, 112, 113, 114, 115, 116,\n",
       "        117, 118, 119, 120, 121, 122, 123, 124, 125, 126, 127, 128, 129,\n",
       "        130, 131, 132, 133, 134, 135, 136, 137, 138, 139, 140, 141, 142,\n",
       "        143, 144, 145, 146, 147, 148, 149, 150, 151, 152, 153, 154, 155,\n",
       "        156, 157, 158, 159, 160, 161, 162, 163, 164, 165, 166, 167, 168,\n",
       "        169]), <a list of 170 Text xticklabel objects>)"
      ]
     },
     "execution_count": 120,
     "metadata": {},
     "output_type": "execute_result"
    },
    {
     "data": {
      "image/png": "[encoded data removed]",
      "text/plain": [
       "<Figure size 1080x576 with 1 Axes>"
      ]
     },
     "metadata": {},
     "output_type": "display_data"
    }
   ],
   "source": [
    "limit_1 = 40\n",
    "limit_2 = 100\n",
    "limit_3 = 350\n",
    "\n",
    "x_limit_1 = np.size(df[df['tumor_1_year'] < limit_1]['tumor_1_year'].unique())\n",
    "x_limit_2 = np.size(df[df['tumor_1_year'] < limit_2]['tumor_1_year'].unique())\n",
    "x_limit_3 = np.size(df[df['tumor_1_year'] < limit_3]['tumor_1_year'].unique())\n",
    "plt.figure(figsize=(15,8))\n",
    "sns.barplot(df['tumor_1_year'],df['survival_7_years'], ci=None)\n",
    "\n",
    "plt.axvspan(-1, x_limit_1, alpha=0.25, color='green')\n",
    "plt.axvspan(x_limit_1, x_limit_2, alpha=0.25, color='red')\n",
    "plt.axvspan(x_limit_2,x_limit_3,alpha=0.25, color='yellow')\n",
    "plt.axvspan(x_limit_3,100, alpha=0.25, color='blue')\n",
    "plt.xticks(rotation=90)"
   ]
  },
  {
   "cell_type": "code",
   "execution_count": 133,
   "metadata": {},
   "outputs": [
    {
     "data": {
      "text/plain": [
       "0    Normal\n",
       "1    Normal\n",
       "2     Large\n",
       "3    Normal\n",
       "4     Large\n",
       "Name: tumor_1_year, dtype: category\n",
       "Categories (3, object): [Normal < Large < abnormal]"
      ]
     },
     "execution_count": 133,
     "metadata": {},
     "output_type": "execute_result"
    }
   ],
   "source": [
    "new_df['tumor_1_year'] = pd.cut(df['tumor_1_year'], bins=[-1,65,100,200], \n",
    "                          labels=['Normal','Large','abnormal'])\n",
    "new_df['tumor_1_year'].head()"
   ]
  },
  {
   "cell_type": "code",
   "execution_count": 139,
   "metadata": {},
   "outputs": [
    {
     "data": {
      "text/plain": [
       "<matplotlib.axes._subplots.AxesSubplot at 0x1becf7f0>"
      ]
     },
     "execution_count": 139,
     "metadata": {},
     "output_type": "execute_result"
    },
    {
     "data": {
      "image/png": "[encoded data removed]",
      "text/plain": [
       "<Figure size 432x288 with 1 Axes>"
      ]
     },
     "metadata": {},
     "output_type": "display_data"
    }
   ],
   "source": [
    "sns.countplot('tumor_1_year',hue='survival_7_years',data=new_df)"
   ]
  },
  {
   "cell_type": "code",
   "execution_count": 145,
   "metadata": {},
   "outputs": [
    {
     "data": {
      "text/plain": [
       "(array([  0,   1,   2,   3,   4,   5,   6,   7,   8,   9,  10,  11,  12,\n",
       "         13,  14,  15,  16,  17,  18,  19,  20,  21,  22,  23,  24,  25,\n",
       "         26,  27,  28,  29,  30,  31,  32,  33,  34,  35,  36,  37,  38,\n",
       "         39,  40,  41,  42,  43,  44,  45,  46,  47,  48,  49,  50,  51,\n",
       "         52,  53,  54,  55,  56,  57,  58,  59,  60,  61,  62,  63,  64,\n",
       "         65,  66,  67,  68,  69,  70,  71,  72,  73,  74,  75,  76,  77,\n",
       "         78,  79,  80,  81,  82,  83,  84,  85,  86,  87,  88,  89,  90,\n",
       "         91,  92,  93,  94,  95,  96,  97,  98,  99, 100, 101, 102, 103,\n",
       "        104, 105, 106, 107, 108, 109, 110, 111, 112, 113, 114, 115, 116,\n",
       "        117, 118, 119, 120, 121, 122, 123, 124, 125, 126, 127, 128, 129,\n",
       "        130, 131, 132, 133, 134, 135, 136, 137, 138, 139, 140, 141, 142,\n",
       "        143, 144, 145, 146, 147, 148, 149, 150, 151, 152, 153, 154, 155,\n",
       "        156, 157, 158, 159, 160, 161, 162, 163, 164, 165, 166, 167, 168,\n",
       "        169, 170, 171, 172, 173, 174, 175, 176, 177, 178, 179, 180, 181,\n",
       "        182, 183, 184, 185, 186, 187, 188, 189, 190, 191, 192, 193, 194,\n",
       "        195, 196, 197, 198, 199, 200, 201, 202, 203, 204, 205, 206, 207]),\n",
       " <a list of 208 Text xticklabel objects>)"
      ]
     },
     "execution_count": 145,
     "metadata": {},
     "output_type": "execute_result"
    },
    {
     "data": {
      "image/png": "[encoded data removed]",
      "text/plain": [
       "<Figure size 1080x576 with 1 Axes>"
      ]
     },
     "metadata": {},
     "output_type": "display_data"
    }
   ],
   "source": [
    "limit_1 = 5\n",
    "limit_2 = 10\n",
    "limit_3 = 15\n",
    "limit_4 = 40\n",
    "\n",
    "x_limit_1 = np.size(df[df['psa_diagnosis'] < limit_1]['psa_diagnosis'].unique())\n",
    "x_limit_2 = np.size(df[df['psa_diagnosis'] < limit_2]['psa_diagnosis'].unique())\n",
    "x_limit_3 = np.size(df[df['psa_diagnosis'] < limit_3]['psa_diagnosis'].unique())\n",
    "x_limit_4 = np.size(df[df['psa_diagnosis'] < limit_4]['psa_diagnosis'].unique())\n",
    "\n",
    "plt.figure(figsize=(15,8))\n",
    "sns.barplot(df['psa_diagnosis'],df['survival_7_years'], ci=None)\n",
    "\n",
    "plt.axvspan(-1, x_limit_1, alpha=0.25, color='green')\n",
    "plt.axvspan(x_limit_1, x_limit_2, alpha=0.25, color='red')\n",
    "plt.axvspan(x_limit_2,x_limit_3,alpha=0.25, color='yellow')\n",
    "plt.axvspan(x_limit_3,limit_4, alpha=0.25, color='blue')\n",
    "plt.axvspan(x_limit_4,100, alpha=0.25, color='white')\n",
    "\n",
    "plt.xticks(rotation=90)"
   ]
  },
  {
   "cell_type": "code",
   "execution_count": 141,
   "metadata": {},
   "outputs": [
    {
     "data": {
      "text/plain": [
       "0    L2\n",
       "1    L3\n",
       "2    L4\n",
       "3    L3\n",
       "4    L4\n",
       "Name: psa_diagnosis, dtype: category\n",
       "Categories (4, object): [L1 < L2 < L3 < L4]"
      ]
     },
     "execution_count": 141,
     "metadata": {},
     "output_type": "execute_result"
    }
   ],
   "source": [
    "new_df['psa_diagnosis'] = pd.cut(df['psa_diagnosis'], bins=[-1,5,10,15,35], \n",
    "                          labels=['L1','L2','L3','L4'])\n",
    "new_df['psa_diagnosis'].head()"
   ]
  },
  {
   "cell_type": "code",
   "execution_count": 142,
   "metadata": {},
   "outputs": [
    {
     "data": {
      "text/plain": [
       "<matplotlib.axes._subplots.AxesSubplot at 0x2083afd0>"
      ]
     },
     "execution_count": 142,
     "metadata": {},
     "output_type": "execute_result"
    },
    {
     "data": {
      "image/png": "[encoded data removed]",
      "text/plain": [
       "<Figure size 432x288 with 1 Axes>"
      ]
     },
     "metadata": {},
     "output_type": "display_data"
    }
   ],
   "source": [
    "sns.countplot('psa_diagnosis',hue='survival_7_years',data=new_df)"
   ]
  },
  {
   "cell_type": "markdown",
   "metadata": {},
   "source": [
    "### by seeing the count of dead rate using psa_diagnosis Level 3 has major count compare all other three level."
   ]
  },
  {
   "cell_type": "code",
   "execution_count": 146,
   "metadata": {},
   "outputs": [
    {
     "data": {
      "text/plain": [
       "(array([  0,   1,   2,   3,   4,   5,   6,   7,   8,   9,  10,  11,  12,\n",
       "         13,  14,  15,  16,  17,  18,  19,  20,  21,  22,  23,  24,  25,\n",
       "         26,  27,  28,  29,  30,  31,  32,  33,  34,  35,  36,  37,  38,\n",
       "         39,  40,  41,  42,  43,  44,  45,  46,  47,  48,  49,  50,  51,\n",
       "         52,  53,  54,  55,  56,  57,  58,  59,  60,  61,  62,  63,  64,\n",
       "         65,  66,  67,  68,  69,  70,  71,  72,  73,  74,  75,  76,  77,\n",
       "         78,  79,  80,  81,  82,  83,  84,  85,  86,  87,  88,  89,  90,\n",
       "         91,  92,  93,  94,  95,  96,  97,  98,  99, 100, 101, 102, 103,\n",
       "        104, 105, 106, 107, 108, 109, 110, 111, 112, 113, 114, 115, 116,\n",
       "        117, 118, 119, 120, 121, 122, 123, 124, 125, 126, 127, 128, 129,\n",
       "        130, 131, 132, 133, 134, 135, 136, 137, 138, 139, 140, 141, 142,\n",
       "        143, 144, 145, 146, 147, 148, 149, 150, 151, 152, 153, 154, 155,\n",
       "        156, 157, 158, 159, 160, 161, 162, 163, 164, 165, 166, 167, 168,\n",
       "        169, 170, 171, 172, 173, 174, 175, 176, 177, 178, 179, 180, 181,\n",
       "        182, 183, 184, 185, 186, 187, 188, 189, 190, 191, 192, 193, 194,\n",
       "        195, 196, 197, 198, 199, 200, 201, 202, 203, 204, 205, 206, 207,\n",
       "        208, 209, 210, 211, 212, 213, 214, 215, 216, 217, 218, 219, 220,\n",
       "        221, 222, 223, 224, 225, 226, 227, 228, 229, 230, 231, 232, 233,\n",
       "        234, 235, 236, 237, 238, 239, 240, 241, 242, 243, 244, 245, 246,\n",
       "        247, 248, 249, 250, 251, 252, 253, 254, 255, 256, 257, 258, 259,\n",
       "        260, 261, 262, 263, 264, 265, 266, 267, 268, 269, 270, 271, 272,\n",
       "        273, 274, 275, 276, 277, 278, 279, 280, 281, 282, 283, 284, 285]),\n",
       " <a list of 286 Text xticklabel objects>)"
      ]
     },
     "execution_count": 146,
     "metadata": {},
     "output_type": "execute_result"
    },
    {
     "data": {
      "image/png": "[encoded data removed]",
      "text/plain": [
       "<Figure size 1080x576 with 1 Axes>"
      ]
     },
     "metadata": {},
     "output_type": "display_data"
    }
   ],
   "source": [
    "limit_1 = 5\n",
    "limit_2 = 10\n",
    "limit_3 = 15\n",
    "limit_4 = 50\n",
    "\n",
    "x_limit_1 = np.size(df[df['psa_1_year'] < limit_1]['psa_1_year'].unique())\n",
    "x_limit_2 = np.size(df[df['psa_1_year'] < limit_2]['psa_1_year'].unique())\n",
    "x_limit_3 = np.size(df[df['psa_1_year'] < limit_3]['psa_1_year'].unique())\n",
    "x_limit_4 = np.size(df[df['psa_1_year'] < limit_4]['psa_1_year'].unique())\n",
    "\n",
    "plt.figure(figsize=(15,8))\n",
    "sns.barplot(df['psa_1_year'],df['survival_7_years'], ci=None)\n",
    "\n",
    "plt.axvspan(-1, x_limit_1, alpha=0.25, color='green')\n",
    "plt.axvspan(x_limit_1, x_limit_2, alpha=0.25, color='red')\n",
    "plt.axvspan(x_limit_2,x_limit_3,alpha=0.25, color='yellow')\n",
    "plt.axvspan(x_limit_3,limit_4, alpha=0.25, color='blue')\n",
    "plt.axvspan(x_limit_4,100, alpha=0.25, color='white')\n",
    "\n",
    "plt.xticks(rotation=90)"
   ]
  },
  {
   "cell_type": "code",
   "execution_count": 149,
   "metadata": {},
   "outputs": [
    {
     "data": {
      "text/plain": [
       "0    L1\n",
       "1    L2\n",
       "2    L4\n",
       "3    L1\n",
       "4    L1\n",
       "Name: psa_1_year, dtype: category\n",
       "Categories (5, object): [L1 < L2 < L3 < L4 < L5]"
      ]
     },
     "execution_count": 149,
     "metadata": {},
     "output_type": "execute_result"
    }
   ],
   "source": [
    "new_df['psa_1_year'] = pd.cut(df['psa_1_year'], bins=[-1,5,10,15,20,40], \n",
    "                          labels=['L1','L2','L3','L4','L5'])\n",
    "new_df['psa_1_year'].head()"
   ]
  },
  {
   "cell_type": "code",
   "execution_count": 150,
   "metadata": {},
   "outputs": [
    {
     "data": {
      "text/plain": [
       "<matplotlib.axes._subplots.AxesSubplot at 0x25416630>"
      ]
     },
     "execution_count": 150,
     "metadata": {},
     "output_type": "execute_result"
    },
    {
     "data": {
      "image/png": "[encoded data removed]",
      "text/plain": [
       "<Figure size 432x288 with 1 Axes>"
      ]
     },
     "metadata": {},
     "output_type": "display_data"
    }
   ],
   "source": [
    "sns.countplot('psa_1_year',hue='survival_7_years',data=new_df)"
   ]
  },
  {
   "cell_type": "markdown",
   "metadata": {},
   "source": [
    "### after year of psa level has major dead rate."
   ]
  },
  {
   "cell_type": "code",
   "execution_count": 157,
   "metadata": {},
   "outputs": [],
   "source": [
    "new_df=pd.get_dummies(new_df, columns=\n",
    "                  [\"psa_1_year\",\"psa_diagnosis\",\"tumor_1_year\",\"tumor_diagnosis\",\"age\",\"weight\",\"gleason_score_bin\"], \n",
    "             prefix=[\"psa_1_year\", \"psa_diagnosis\",\"tumor_1_year\",\"tumor_diagnosis\",\"age\",\"weight\",\"gleason\"])\n"
   ]
  },
  {
   "cell_type": "code",
   "execution_count": 159,
   "metadata": {},
   "outputs": [],
   "source": [
    "d=['gleason_score','side']\n",
    "new_df.drop(d, axis=1, inplace = True)"
   ]
  },
  {
   "cell_type": "code",
   "execution_count": 160,
   "metadata": {},
   "outputs": [
    {
     "data": {
      "text/html": [
       "<div>\n",
       "<style scoped>\n",
       "    .dataframe tbody tr th:only-of-type {\n",
       "        vertical-align: middle;\n",
       "    }\n",
       "\n",
       "    .dataframe tbody tr th {\n",
       "        vertical-align: top;\n",
       "    }\n",
       "\n",
       "    .dataframe thead th {\n",
       "        text-align: right;\n",
       "    }\n",
       "</style>\n",
       "<table border=\"1\" class=\"dataframe\">\n",
       "  <thead>\n",
       "    <tr style=\"text-align: right;\">\n",
       "      <th></th>\n",
       "      <th>id</th>\n",
       "      <th>height</th>\n",
       "      <th>family_history</th>\n",
       "      <th>first_degree_history</th>\n",
       "      <th>previous_cancer</th>\n",
       "      <th>smoker</th>\n",
       "      <th>tea</th>\n",
       "      <th>rd_thrpy</th>\n",
       "      <th>h_thrpy</th>\n",
       "      <th>chm_thrpy</th>\n",
       "      <th>...</th>\n",
       "      <th>tumor_diagnosis_abnormal</th>\n",
       "      <th>age_Child</th>\n",
       "      <th>age_Adult</th>\n",
       "      <th>age_Elder</th>\n",
       "      <th>weight_Low_weight</th>\n",
       "      <th>weight_Normal_weight</th>\n",
       "      <th>weight_overweight</th>\n",
       "      <th>gleason_Small</th>\n",
       "      <th>gleason_Medium</th>\n",
       "      <th>gleason_Large</th>\n",
       "    </tr>\n",
       "  </thead>\n",
       "  <tbody>\n",
       "    <tr>\n",
       "      <th>0</th>\n",
       "      <td>1</td>\n",
       "      <td>66.0</td>\n",
       "      <td>0.0</td>\n",
       "      <td>0.0</td>\n",
       "      <td>0.0</td>\n",
       "      <td>0.0</td>\n",
       "      <td>2.0</td>\n",
       "      <td>0</td>\n",
       "      <td>0</td>\n",
       "      <td>1</td>\n",
       "      <td>...</td>\n",
       "      <td>0</td>\n",
       "      <td>0</td>\n",
       "      <td>0</td>\n",
       "      <td>1</td>\n",
       "      <td>1</td>\n",
       "      <td>0</td>\n",
       "      <td>0</td>\n",
       "      <td>1</td>\n",
       "      <td>0</td>\n",
       "      <td>0</td>\n",
       "    </tr>\n",
       "    <tr>\n",
       "      <th>1</th>\n",
       "      <td>2</td>\n",
       "      <td>70.0</td>\n",
       "      <td>0.0</td>\n",
       "      <td>0.0</td>\n",
       "      <td>0.0</td>\n",
       "      <td>1.0</td>\n",
       "      <td>4.0</td>\n",
       "      <td>1</td>\n",
       "      <td>1</td>\n",
       "      <td>1</td>\n",
       "      <td>...</td>\n",
       "      <td>0</td>\n",
       "      <td>0</td>\n",
       "      <td>0</td>\n",
       "      <td>1</td>\n",
       "      <td>0</td>\n",
       "      <td>1</td>\n",
       "      <td>0</td>\n",
       "      <td>0</td>\n",
       "      <td>1</td>\n",
       "      <td>0</td>\n",
       "    </tr>\n",
       "    <tr>\n",
       "      <th>2</th>\n",
       "      <td>3</td>\n",
       "      <td>69.0</td>\n",
       "      <td>0.0</td>\n",
       "      <td>0.0</td>\n",
       "      <td>0.0</td>\n",
       "      <td>0.0</td>\n",
       "      <td>0.0</td>\n",
       "      <td>1</td>\n",
       "      <td>1</td>\n",
       "      <td>0</td>\n",
       "      <td>...</td>\n",
       "      <td>0</td>\n",
       "      <td>0</td>\n",
       "      <td>0</td>\n",
       "      <td>1</td>\n",
       "      <td>0</td>\n",
       "      <td>1</td>\n",
       "      <td>0</td>\n",
       "      <td>0</td>\n",
       "      <td>1</td>\n",
       "      <td>0</td>\n",
       "    </tr>\n",
       "    <tr>\n",
       "      <th>3</th>\n",
       "      <td>4</td>\n",
       "      <td>69.0</td>\n",
       "      <td>0.0</td>\n",
       "      <td>0.0</td>\n",
       "      <td>0.0</td>\n",
       "      <td>0.0</td>\n",
       "      <td>2.0</td>\n",
       "      <td>0</td>\n",
       "      <td>0</td>\n",
       "      <td>0</td>\n",
       "      <td>...</td>\n",
       "      <td>1</td>\n",
       "      <td>0</td>\n",
       "      <td>0</td>\n",
       "      <td>1</td>\n",
       "      <td>0</td>\n",
       "      <td>1</td>\n",
       "      <td>0</td>\n",
       "      <td>0</td>\n",
       "      <td>1</td>\n",
       "      <td>0</td>\n",
       "    </tr>\n",
       "    <tr>\n",
       "      <th>4</th>\n",
       "      <td>5</td>\n",
       "      <td>70.0</td>\n",
       "      <td>1.0</td>\n",
       "      <td>1.0</td>\n",
       "      <td>0.0</td>\n",
       "      <td>0.0</td>\n",
       "      <td>2.0</td>\n",
       "      <td>1</td>\n",
       "      <td>1</td>\n",
       "      <td>1</td>\n",
       "      <td>...</td>\n",
       "      <td>0</td>\n",
       "      <td>0</td>\n",
       "      <td>0</td>\n",
       "      <td>1</td>\n",
       "      <td>0</td>\n",
       "      <td>1</td>\n",
       "      <td>0</td>\n",
       "      <td>0</td>\n",
       "      <td>1</td>\n",
       "      <td>0</td>\n",
       "    </tr>\n",
       "  </tbody>\n",
       "</table>\n",
       "<p>5 rows × 83 columns</p>\n",
       "</div>"
      ],
      "text/plain": [
       "   id  height  family_history  first_degree_history  previous_cancer  smoker  \\\n",
       "0   1    66.0             0.0                   0.0              0.0     0.0   \n",
       "1   2    70.0             0.0                   0.0              0.0     1.0   \n",
       "2   3    69.0             0.0                   0.0              0.0     0.0   \n",
       "3   4    69.0             0.0                   0.0              0.0     0.0   \n",
       "4   5    70.0             1.0                   1.0              0.0     0.0   \n",
       "\n",
       "   tea  rd_thrpy  h_thrpy  chm_thrpy      ...        tumor_diagnosis_abnormal  \\\n",
       "0  2.0         0        0          1      ...                               0   \n",
       "1  4.0         1        1          1      ...                               0   \n",
       "2  0.0         1        1          0      ...                               0   \n",
       "3  2.0         0        0          0      ...                               1   \n",
       "4  2.0         1        1          1      ...                               0   \n",
       "\n",
       "   age_Child  age_Adult  age_Elder  weight_Low_weight  weight_Normal_weight  \\\n",
       "0          0          0          1                  1                     0   \n",
       "1          0          0          1                  0                     1   \n",
       "2          0          0          1                  0                     1   \n",
       "3          0          0          1                  0                     1   \n",
       "4          0          0          1                  0                     1   \n",
       "\n",
       "   weight_overweight  gleason_Small  gleason_Medium  gleason_Large  \n",
       "0                  0              1               0              0  \n",
       "1                  0              0               1              0  \n",
       "2                  0              0               1              0  \n",
       "3                  0              0               1              0  \n",
       "4                  0              0               1              0  \n",
       "\n",
       "[5 rows x 83 columns]"
      ]
     },
     "execution_count": 160,
     "metadata": {},
     "output_type": "execute_result"
    }
   ],
   "source": [
    "new_df.head()"
   ]
  },
  {
   "cell_type": "code",
   "execution_count": 193,
   "metadata": {},
   "outputs": [
    {
     "name": "stdout",
     "output_type": "stream",
     "text": [
      "Numerical features : 83\n"
     ]
    }
   ],
   "source": [
    "nc=new_df.select_dtypes(exclude = [\"object\"]).columns\n",
    "\n",
    "print(\"Numerical features : \" + str(len(nc)))"
   ]
  },
  {
   "cell_type": "code",
   "execution_count": 210,
   "metadata": {},
   "outputs": [],
   "source": [
    "#new_df.apply(pd.to_numeric)"
   ]
  },
  {
   "cell_type": "code",
   "execution_count": 200,
   "metadata": {},
   "outputs": [],
   "source": [
    "d=['tumor_1_year3']\n",
    "new_df.drop(d, axis=1, inplace = True)"
   ]
  },
  {
   "cell_type": "markdown",
   "metadata": {},
   "source": [
    "## Variance Threshold\n",
    "\n",
    "This feature selection algorithm looks only at the features (X). We set threshold 0.1 which lower than this threshold will be removed."
   ]
  },
  {
   "cell_type": "code",
   "execution_count": 215,
   "metadata": {},
   "outputs": [
    {
     "data": {
      "text/plain": [
       "Index([u'id', u'height', u'family_history', u'first_degree_history', u'tea',\n",
       "       u'rd_thrpy', u'h_thrpy', u'chm_thrpy', u'cry_thrpy', u'brch_thrpy',\n",
       "       u'rad_rem', u'multi_thrpy', u'survival_7_years', u't_score_T4',\n",
       "       u'n_score_N0', u'n_score_N1', u'stage_IIA', u'stage_IIB', u'stage_III',\n",
       "       u'stage_IV', u'race_race_type_2', u'race_race_type_4', u'O11', u'S04',\n",
       "       u'S07', u'U01', u'U02', u'U03', u'U06', u'psa_1_year_L1',\n",
       "       u'psa_1_year_L2', u'psa_1_year_L3', u'psa_diagnosis_L2',\n",
       "       u'psa_diagnosis_L3', u'psa_diagnosis_L4', u'tumor_1_year_Normal',\n",
       "       u'tumor_1_year_Large', u'tumor_diagnosis_Normal',\n",
       "       u'tumor_diagnosis_Large', u'weight_Low_weight', u'weight_Normal_weight',\n",
       "       u'gleason_Small', u'gleason_Medium'],\n",
       "      dtype='object')"
      ]
     },
     "execution_count": 215,
     "metadata": {},
     "output_type": "execute_result"
    }
   ],
   "source": [
    "from sklearn.feature_selection import VarianceThreshold\n",
    "\n",
    "mdlsel = VarianceThreshold(threshold=0.1)\n",
    "mdlsel.fit(new_df)\n",
    "ix = mdlsel.get_support()\n",
    "#data1 = mdlsel.transform(train) \n",
    "data1 = pd.DataFrame(mdlsel.transform(new_df), columns = new_df.columns.values[ix])\n",
    "data1.columns"
   ]
  },
  {
   "cell_type": "markdown",
   "metadata": {},
   "source": [
    "## Select K Best\n",
    "\n",
    "Select features according to the k highest scores."
   ]
  },
  {
   "cell_type": "code",
   "execution_count": 220,
   "metadata": {},
   "outputs": [
    {
     "data": {
      "text/html": [
       "<div>\n",
       "<style scoped>\n",
       "    .dataframe tbody tr th:only-of-type {\n",
       "        vertical-align: middle;\n",
       "    }\n",
       "\n",
       "    .dataframe tbody tr th {\n",
       "        vertical-align: top;\n",
       "    }\n",
       "\n",
       "    .dataframe thead th {\n",
       "        text-align: right;\n",
       "    }\n",
       "</style>\n",
       "<table border=\"1\" class=\"dataframe\">\n",
       "  <thead>\n",
       "    <tr style=\"text-align: right;\">\n",
       "      <th></th>\n",
       "      <th>id</th>\n",
       "      <th>rd_thrpy</th>\n",
       "      <th>chm_thrpy</th>\n",
       "      <th>cry_thrpy</th>\n",
       "      <th>survival_1_year</th>\n",
       "      <th>t_score_T4</th>\n",
       "      <th>n_score_N0</th>\n",
       "      <th>n_score_N1</th>\n",
       "      <th>stage_I</th>\n",
       "      <th>stage_IIA</th>\n",
       "      <th>...</th>\n",
       "      <th>P01</th>\n",
       "      <th>P02</th>\n",
       "      <th>P03</th>\n",
       "      <th>S10</th>\n",
       "      <th>U05</th>\n",
       "      <th>psa_1_year_L1</th>\n",
       "      <th>psa_1_year_L2</th>\n",
       "      <th>tumor_1_year_abnormal</th>\n",
       "      <th>tumor_diagnosis_Large</th>\n",
       "      <th>gleason_Small</th>\n",
       "    </tr>\n",
       "  </thead>\n",
       "  <tbody>\n",
       "    <tr>\n",
       "      <th>0</th>\n",
       "      <td>1</td>\n",
       "      <td>0</td>\n",
       "      <td>1</td>\n",
       "      <td>1</td>\n",
       "      <td>1</td>\n",
       "      <td>0</td>\n",
       "      <td>1</td>\n",
       "      <td>0</td>\n",
       "      <td>1</td>\n",
       "      <td>0</td>\n",
       "      <td>...</td>\n",
       "      <td>0</td>\n",
       "      <td>0</td>\n",
       "      <td>0</td>\n",
       "      <td>0</td>\n",
       "      <td>0</td>\n",
       "      <td>1</td>\n",
       "      <td>0</td>\n",
       "      <td>0</td>\n",
       "      <td>1</td>\n",
       "      <td>1</td>\n",
       "    </tr>\n",
       "    <tr>\n",
       "      <th>1</th>\n",
       "      <td>2</td>\n",
       "      <td>1</td>\n",
       "      <td>1</td>\n",
       "      <td>0</td>\n",
       "      <td>1</td>\n",
       "      <td>0</td>\n",
       "      <td>0</td>\n",
       "      <td>1</td>\n",
       "      <td>0</td>\n",
       "      <td>0</td>\n",
       "      <td>...</td>\n",
       "      <td>0</td>\n",
       "      <td>0</td>\n",
       "      <td>0</td>\n",
       "      <td>0</td>\n",
       "      <td>0</td>\n",
       "      <td>0</td>\n",
       "      <td>1</td>\n",
       "      <td>0</td>\n",
       "      <td>0</td>\n",
       "      <td>0</td>\n",
       "    </tr>\n",
       "    <tr>\n",
       "      <th>2</th>\n",
       "      <td>3</td>\n",
       "      <td>1</td>\n",
       "      <td>0</td>\n",
       "      <td>0</td>\n",
       "      <td>1</td>\n",
       "      <td>0</td>\n",
       "      <td>1</td>\n",
       "      <td>0</td>\n",
       "      <td>0</td>\n",
       "      <td>0</td>\n",
       "      <td>...</td>\n",
       "      <td>0</td>\n",
       "      <td>0</td>\n",
       "      <td>0</td>\n",
       "      <td>1</td>\n",
       "      <td>0</td>\n",
       "      <td>0</td>\n",
       "      <td>0</td>\n",
       "      <td>0</td>\n",
       "      <td>0</td>\n",
       "      <td>0</td>\n",
       "    </tr>\n",
       "    <tr>\n",
       "      <th>3</th>\n",
       "      <td>4</td>\n",
       "      <td>0</td>\n",
       "      <td>0</td>\n",
       "      <td>1</td>\n",
       "      <td>0</td>\n",
       "      <td>0</td>\n",
       "      <td>1</td>\n",
       "      <td>0</td>\n",
       "      <td>0</td>\n",
       "      <td>0</td>\n",
       "      <td>...</td>\n",
       "      <td>0</td>\n",
       "      <td>0</td>\n",
       "      <td>0</td>\n",
       "      <td>1</td>\n",
       "      <td>0</td>\n",
       "      <td>1</td>\n",
       "      <td>0</td>\n",
       "      <td>0</td>\n",
       "      <td>0</td>\n",
       "      <td>0</td>\n",
       "    </tr>\n",
       "    <tr>\n",
       "      <th>4</th>\n",
       "      <td>5</td>\n",
       "      <td>1</td>\n",
       "      <td>1</td>\n",
       "      <td>0</td>\n",
       "      <td>1</td>\n",
       "      <td>1</td>\n",
       "      <td>1</td>\n",
       "      <td>0</td>\n",
       "      <td>0</td>\n",
       "      <td>0</td>\n",
       "      <td>...</td>\n",
       "      <td>0</td>\n",
       "      <td>0</td>\n",
       "      <td>0</td>\n",
       "      <td>0</td>\n",
       "      <td>1</td>\n",
       "      <td>1</td>\n",
       "      <td>0</td>\n",
       "      <td>0</td>\n",
       "      <td>1</td>\n",
       "      <td>0</td>\n",
       "    </tr>\n",
       "  </tbody>\n",
       "</table>\n",
       "<p>5 rows × 30 columns</p>\n",
       "</div>"
      ],
      "text/plain": [
       "   id  rd_thrpy  chm_thrpy  cry_thrpy  survival_1_year  t_score_T4  \\\n",
       "0   1         0          1          1                1           0   \n",
       "1   2         1          1          0                1           0   \n",
       "2   3         1          0          0                1           0   \n",
       "3   4         0          0          1                0           0   \n",
       "4   5         1          1          0                1           1   \n",
       "\n",
       "   n_score_N0  n_score_N1  stage_I  stage_IIA      ...        P01  P02  P03  \\\n",
       "0           1           0        1          0      ...          0    0    0   \n",
       "1           0           1        0          0      ...          0    0    0   \n",
       "2           1           0        0          0      ...          0    0    0   \n",
       "3           1           0        0          0      ...          0    0    0   \n",
       "4           1           0        0          0      ...          0    0    0   \n",
       "\n",
       "   S10  U05  psa_1_year_L1  psa_1_year_L2  tumor_1_year_abnormal  \\\n",
       "0    0    0              1              0                      0   \n",
       "1    0    0              0              1                      0   \n",
       "2    1    0              0              0                      0   \n",
       "3    1    0              1              0                      0   \n",
       "4    0    1              1              0                      0   \n",
       "\n",
       "   tumor_diagnosis_Large  gleason_Small  \n",
       "0                      1              1  \n",
       "1                      0              0  \n",
       "2                      0              0  \n",
       "3                      0              0  \n",
       "4                      1              0  \n",
       "\n",
       "[5 rows x 30 columns]"
      ]
     },
     "execution_count": 220,
     "metadata": {},
     "output_type": "execute_result"
    }
   ],
   "source": [
    "from sklearn.feature_selection import SelectKBest\n",
    "from sklearn.feature_selection import chi2\n",
    "\n",
    "X = new_df.drop(\"survival_7_years\",axis=1)\n",
    "y = new_df[\"survival_7_years\"]\n",
    "\n",
    "mdlsel = SelectKBest(chi2, k=30) \n",
    "mdlsel.fit(X,y)\n",
    "ix = mdlsel.get_support() \n",
    "data2 = pd.DataFrame(mdlsel.transform(X), columns = X.columns.values[ix]) # en iyi leri aldi... 7 tane...\n",
    "data2.head(n=5)"
   ]
  },
  {
   "cell_type": "code",
   "execution_count": 221,
   "metadata": {},
   "outputs": [
    {
     "data": {
      "text/plain": [
       "Index([u'id', u'rd_thrpy', u'chm_thrpy', u'cry_thrpy', u'survival_1_year',\n",
       "       u't_score_T4', u'n_score_N0', u'n_score_N1', u'stage_I', u'stage_IIA',\n",
       "       u'stage_III', u'stage_IV', u'm_score_M0', u'm_score_M1a',\n",
       "       u'm_score_M1b', u'm_score_M1c', u'O01', u'O08', u'O09', u'O10', u'P01',\n",
       "       u'P02', u'P03', u'S10', u'U05', u'psa_1_year_L1', u'psa_1_year_L2',\n",
       "       u'tumor_1_year_abnormal', u'tumor_diagnosis_Large', u'gleason_Small'],\n",
       "      dtype='object')"
      ]
     },
     "execution_count": 221,
     "metadata": {},
     "output_type": "execute_result"
    }
   ],
   "source": [
    "data2.columns"
   ]
  },
  {
   "cell_type": "code",
   "execution_count": null,
   "metadata": {},
   "outputs": [],
   "source": []
  },
  {
   "cell_type": "markdown",
   "metadata": {},
   "source": [
    "## Logistic Regression"
   ]
  },
  {
   "cell_type": "code",
   "execution_count": 226,
   "metadata": {},
   "outputs": [
    {
     "name": "stdout",
     "output_type": "stream",
     "text": [
      "('Logistic Regression Score: ', 0.6618284228769498)\n",
      "('MSE    :', 0.33817157712305024)\n"
     ]
    }
   ],
   "source": [
    "from sklearn import linear_model\n",
    "from sklearn.model_selection import train_test_split\n",
    "from sklearn.metrics import accuracy_score\n",
    "import matplotlib.pyplot as plt\n",
    "\n",
    "#input and output\n",
    "target = new_df['survival_7_years']\n",
    "features = new_df[['height','family_history', 'first_degree_history',\n",
    "       'previous_cancer', 'smoker', 'tea', 'rd_thrpy', 'h_thrpy',\n",
    "       'chm_thrpy', 'cry_thrpy', 'brch_thrpy', 'rad_rem', 'multi_thrpy',\n",
    "       'survival_1_year', 't_score_T1a', 't_score_T1b',\n",
    "       't_score_T1c', 't_score_T2a', 't_score_T2b', 't_score_T2c',\n",
    "       't_score_T3a', 't_score_T3b', 't_score_T3c', 't_score_T4',\n",
    "       'n_score_N0', 'n_score_N1', 'n_score_NX', 'stage_I', 'stage_IIA',\n",
    "       'stage_IIB', 'stage_III', 'stage_IV', 'm_score_M0', 'm_score_M1a',\n",
    "       'm_score_M1b', 'm_score_M1c', 'race_race_type_1',\n",
    "       'race_race_type_2', 'race_race_type_3', 'race_race_type_4', 'O01',\n",
    "       'O08', 'O09', 'O10', 'O11', 'P01', 'P02', 'P03', 'S04', 'S07',\n",
    "       'S10', 'U01', 'U02', 'U03', 'U05', 'U06',\n",
    "       'psa_1_year_L1', 'psa_1_year_L2', 'psa_1_year_L3', 'psa_1_year_L4',\n",
    "       'psa_1_year_L5', 'psa_diagnosis_L1', 'psa_diagnosis_L2',\n",
    "       'psa_diagnosis_L3', 'psa_diagnosis_L4', 'tumor_1_year_Normal',\n",
    "       'tumor_1_year_Large', 'tumor_1_year_abnormal',\n",
    "       'tumor_diagnosis_Normal', 'tumor_diagnosis_Large',\n",
    "       'tumor_diagnosis_abnormal', 'age_Child', 'age_Adult', 'age_Elder',\n",
    "       'weight_Low_weight','weight_Normal_weight', 'weight_overweight',\n",
    "       'gleason_Small', 'gleason_Medium','gleason_Large']]\n",
    "\n",
    "#Build test and training test\n",
    "X_train,X_test,y_train,y_test = train_test_split(features,target,test_size=0.3,random_state=42)\n",
    "\n",
    "\n",
    "classifier = linear_model.LogisticRegression()\n",
    "classifier_=classifier.fit(X_train,y_train)\n",
    "target_predict=classifier_.predict(X_test)\n",
    "\n",
    "\n",
    "print(\"Logistic Regression Score: \",accuracy_score(y_test,target_predict))\n",
    "\n",
    "from sklearn.metrics import mean_squared_error, r2_score\n",
    "print (\"MSE    :\",mean_squared_error(y_test,target_predict))\n"
   ]
  },
  {
   "cell_type": "markdown",
   "metadata": {},
   "source": [
    "## i have bulid by using Logistic REgression and got accuracy of 66% "
   ]
  },
  {
   "cell_type": "markdown",
   "metadata": {},
   "source": [
    "### Polynomial Features"
   ]
  },
  {
   "cell_type": "code",
   "execution_count": 231,
   "metadata": {},
   "outputs": [
    {
     "name": "stdout",
     "output_type": "stream",
     "text": [
      "('Polynomial Features: ', 0.6618284228769498)\n",
      "('MSE    :', 0.33817157712305024)\n"
     ]
    }
   ],
   "source": [
    "from sklearn import preprocessing\n",
    "from sklearn.model_selection import train_test_split\n",
    "#Build test and training test\n",
    "X_train,X_test,y_train,y_test = train_test_split(features,target,test_size=0.3,random_state=42)\n",
    "poly = preprocessing.PolynomialFeatures(degree=2,include_bias=False)\n",
    "poly_features = poly.fit_transform(features)\n",
    "\n",
    "classifier_ = classifier.fit(X_train,y_train)\n",
    "print(\"Polynomial Features: \",accuracy_score(y_test,target_predict))\n",
    "\n",
    "from sklearn.metrics import mean_squared_error, r2_score\n",
    "print (\"MSE    :\",mean_squared_error(y_test,target_predict))\n",
    "#print (\"R2     :\",r2_score(y_test,target_predict))"
   ]
  },
  {
   "cell_type": "markdown",
   "metadata": {},
   "source": [
    "## Random forest model"
   ]
  },
  {
   "cell_type": "code",
   "execution_count": 238,
   "metadata": {},
   "outputs": [
    {
     "name": "stdout",
     "output_type": "stream",
     "text": [
      "('Random forest score: ', 0.6700606585788561)\n",
      "('MSE    :', 0.32993934142114384)\n"
     ]
    }
   ],
   "source": [
    "from sklearn.ensemble import RandomForestClassifier\n",
    "from sklearn.metrics import accuracy_score\n",
    "from sklearn.model_selection import train_test_split\n",
    "\n",
    "#target = train['Survived'].values\n",
    "#data_features_names = ['Pclass','Sex','SibSp','Parch','Fare','Embarked','Age']\n",
    "#features = train[data_features_names].values\n",
    "\n",
    "#Build test and training test\n",
    "X_train,X_test,y_train,y_test = train_test_split(features,target,test_size=0.3,random_state=42)\n",
    "\n",
    "my_forest = RandomForestClassifier(max_depth=20, min_samples_split=30, n_estimators=1200, random_state=10,\n",
    "                                   criterion = 'entropy')\n",
    "\n",
    "\n",
    "my_forest_ = my_forest.fit(X_train,y_train)\n",
    "target_predict=my_forest_.predict(X_test)\n",
    "\n",
    "print(\"Random forest score: \",accuracy_score(y_test,target_predict))\n",
    "\n",
    "from sklearn.metrics import mean_squared_error, r2_score\n",
    "print (\"MSE    :\",mean_squared_error(y_test,target_predict))\n",
    "#print (\"R2     :\",r2_score(y_test,target_predict))"
   ]
  },
  {
   "cell_type": "markdown",
   "metadata": {},
   "source": [
    "## random Forest model gave 67% of accuracy"
   ]
  },
  {
   "cell_type": "markdown",
   "metadata": {},
   "source": [
    "## Decision Tree Model"
   ]
  },
  {
   "cell_type": "code",
   "execution_count": 240,
   "metadata": {},
   "outputs": [
    {
     "name": "stdout",
     "output_type": "stream",
     "text": [
      "('Decision tree score: ', 0.645580589254766)\n",
      "('MSE    :', 0.354419410745234)\n"
     ]
    }
   ],
   "source": [
    "from sklearn import tree\n",
    "from sklearn.metrics import accuracy_score\n",
    "from sklearn.model_selection import train_test_split\n",
    "\n",
    "\n",
    "\n",
    "#Build test and training test\n",
    "X_train,X_test,y_train,y_test = train_test_split(features,target,test_size=0.3,random_state=42)\n",
    "\n",
    "decision_tree = tree.DecisionTreeClassifier(random_state=1,criterion = 'entropy',min_samples_split = 100)\n",
    "\n",
    "\n",
    "decision_tree_ = decision_tree.fit(X_train,y_train)\n",
    "target_predict=decision_tree_.predict(X_test)\n",
    "\n",
    "print(\"Decision tree score: \",accuracy_score(y_test,target_predict))\n",
    "\n",
    "from sklearn.metrics import mean_squared_error, r2_score\n",
    "print (\"MSE    :\",mean_squared_error(y_test,target_predict))\n",
    "#print (\"R2     :\",r2_score(y_test,target_predict))"
   ]
  },
  {
   "cell_type": "markdown",
   "metadata": {},
   "source": [
    "### Decision Tree model has given 64% of accuracy"
   ]
  },
  {
   "cell_type": "markdown",
   "metadata": {},
   "source": [
    "Based on the model i have bulit random forest model is given the best result."
   ]
  },
  {
   "cell_type": "code",
   "execution_count": null,
   "metadata": {},
   "outputs": [],
   "source": []
  }
 ],
 "metadata": {
  "kernelspec": {
   "display_name": "Python 2",
   "language": "python",
   "name": "python2"
  },
  "language_info": {
   "codemirror_mode": {
    "name": "ipython",
    "version": 2
   },
   "file_extension": ".py",
   "mimetype": "text/x-python",
   "name": "python",
   "nbconvert_exporter": "python",
   "pygments_lexer": "ipython2",
   "version": "2.7.15"
  }
 },
 "nbformat": 4,
 "nbformat_minor": 2
}
